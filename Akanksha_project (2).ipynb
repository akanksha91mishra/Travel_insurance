{
 "cells": [
  {
   "cell_type": "code",
   "execution_count": 1,
   "metadata": {},
   "outputs": [],
   "source": [
    "import pandas as pd\n",
    "import os"
   ]
  },
  {
   "cell_type": "code",
   "execution_count": 2,
   "metadata": {},
   "outputs": [
    {
     "data": {
      "text/plain": [
       "'/Users/akankshamishra/Downloads'"
      ]
     },
     "execution_count": 2,
     "metadata": {},
     "output_type": "execute_result"
    }
   ],
   "source": [
    "os.getcwd()"
   ]
  },
  {
   "cell_type": "code",
   "execution_count": 3,
   "metadata": {},
   "outputs": [],
   "source": [
    "os.chdir(\"/Users/akankshamishra/Desktop/Hackathon/travel_insurance/\")"
   ]
  },
  {
   "cell_type": "code",
   "execution_count": 4,
   "metadata": {},
   "outputs": [],
   "source": [
    "train_df = pd.read_csv(\"train.csv\")\n",
    "test_df = pd.read_csv(\"test.csv\")"
   ]
  },
  {
   "cell_type": "code",
   "execution_count": 5,
   "metadata": {},
   "outputs": [
    {
     "data": {
      "text/html": [
       "<div>\n",
       "<style scoped>\n",
       "    .dataframe tbody tr th:only-of-type {\n",
       "        vertical-align: middle;\n",
       "    }\n",
       "\n",
       "    .dataframe tbody tr th {\n",
       "        vertical-align: top;\n",
       "    }\n",
       "\n",
       "    .dataframe thead th {\n",
       "        text-align: right;\n",
       "    }\n",
       "</style>\n",
       "<table border=\"1\" class=\"dataframe\">\n",
       "  <thead>\n",
       "    <tr style=\"text-align: right;\">\n",
       "      <th></th>\n",
       "      <th>ID</th>\n",
       "      <th>Agency</th>\n",
       "      <th>Agency Type</th>\n",
       "      <th>Distribution Channel</th>\n",
       "      <th>Product Name</th>\n",
       "      <th>Claim</th>\n",
       "      <th>Duration</th>\n",
       "      <th>Destination</th>\n",
       "      <th>Net Sales</th>\n",
       "      <th>Commision (in value)</th>\n",
       "      <th>Gender</th>\n",
       "      <th>Age</th>\n",
       "    </tr>\n",
       "  </thead>\n",
       "  <tbody>\n",
       "    <tr>\n",
       "      <th>0</th>\n",
       "      <td>3433</td>\n",
       "      <td>CWT</td>\n",
       "      <td>Travel Agency</td>\n",
       "      <td>Online</td>\n",
       "      <td>Rental Vehicle Excess Insurance</td>\n",
       "      <td>0</td>\n",
       "      <td>7</td>\n",
       "      <td>MALAYSIA</td>\n",
       "      <td>0.0</td>\n",
       "      <td>17.82</td>\n",
       "      <td>NaN</td>\n",
       "      <td>31</td>\n",
       "    </tr>\n",
       "    <tr>\n",
       "      <th>1</th>\n",
       "      <td>4339</td>\n",
       "      <td>EPX</td>\n",
       "      <td>Travel Agency</td>\n",
       "      <td>Online</td>\n",
       "      <td>Cancellation Plan</td>\n",
       "      <td>0</td>\n",
       "      <td>85</td>\n",
       "      <td>SINGAPORE</td>\n",
       "      <td>69.0</td>\n",
       "      <td>0.00</td>\n",
       "      <td>NaN</td>\n",
       "      <td>36</td>\n",
       "    </tr>\n",
       "    <tr>\n",
       "      <th>2</th>\n",
       "      <td>34590</td>\n",
       "      <td>CWT</td>\n",
       "      <td>Travel Agency</td>\n",
       "      <td>Online</td>\n",
       "      <td>Rental Vehicle Excess Insurance</td>\n",
       "      <td>0</td>\n",
       "      <td>11</td>\n",
       "      <td>MALAYSIA</td>\n",
       "      <td>19.8</td>\n",
       "      <td>11.88</td>\n",
       "      <td>NaN</td>\n",
       "      <td>75</td>\n",
       "    </tr>\n",
       "    <tr>\n",
       "      <th>3</th>\n",
       "      <td>55816</td>\n",
       "      <td>EPX</td>\n",
       "      <td>Travel Agency</td>\n",
       "      <td>Online</td>\n",
       "      <td>2 way Comprehensive Plan</td>\n",
       "      <td>0</td>\n",
       "      <td>16</td>\n",
       "      <td>INDONESIA</td>\n",
       "      <td>20.0</td>\n",
       "      <td>0.00</td>\n",
       "      <td>NaN</td>\n",
       "      <td>32</td>\n",
       "    </tr>\n",
       "    <tr>\n",
       "      <th>4</th>\n",
       "      <td>13816</td>\n",
       "      <td>EPX</td>\n",
       "      <td>Travel Agency</td>\n",
       "      <td>Online</td>\n",
       "      <td>Cancellation Plan</td>\n",
       "      <td>0</td>\n",
       "      <td>10</td>\n",
       "      <td>KOREA, REPUBLIC OF</td>\n",
       "      <td>15.0</td>\n",
       "      <td>0.00</td>\n",
       "      <td>NaN</td>\n",
       "      <td>29</td>\n",
       "    </tr>\n",
       "    <tr>\n",
       "      <th>5</th>\n",
       "      <td>50349</td>\n",
       "      <td>CWT</td>\n",
       "      <td>Travel Agency</td>\n",
       "      <td>Online</td>\n",
       "      <td>Rental Vehicle Excess Insurance</td>\n",
       "      <td>0</td>\n",
       "      <td>64</td>\n",
       "      <td>THAILAND</td>\n",
       "      <td>49.5</td>\n",
       "      <td>29.70</td>\n",
       "      <td>NaN</td>\n",
       "      <td>36</td>\n",
       "    </tr>\n",
       "    <tr>\n",
       "      <th>6</th>\n",
       "      <td>9921</td>\n",
       "      <td>JZI</td>\n",
       "      <td>Airlines</td>\n",
       "      <td>Online</td>\n",
       "      <td>Value Plan</td>\n",
       "      <td>0</td>\n",
       "      <td>23</td>\n",
       "      <td>JAPAN</td>\n",
       "      <td>-69.0</td>\n",
       "      <td>24.15</td>\n",
       "      <td>F</td>\n",
       "      <td>26</td>\n",
       "    </tr>\n",
       "    <tr>\n",
       "      <th>7</th>\n",
       "      <td>21923</td>\n",
       "      <td>JZI</td>\n",
       "      <td>Airlines</td>\n",
       "      <td>Online</td>\n",
       "      <td>Basic Plan</td>\n",
       "      <td>0</td>\n",
       "      <td>31</td>\n",
       "      <td>HONG KONG</td>\n",
       "      <td>26.0</td>\n",
       "      <td>9.10</td>\n",
       "      <td>M</td>\n",
       "      <td>60</td>\n",
       "    </tr>\n",
       "    <tr>\n",
       "      <th>8</th>\n",
       "      <td>2236</td>\n",
       "      <td>CWT</td>\n",
       "      <td>Travel Agency</td>\n",
       "      <td>Online</td>\n",
       "      <td>Rental Vehicle Excess Insurance</td>\n",
       "      <td>0</td>\n",
       "      <td>5</td>\n",
       "      <td>AUSTRALIA</td>\n",
       "      <td>19.8</td>\n",
       "      <td>11.88</td>\n",
       "      <td>NaN</td>\n",
       "      <td>57</td>\n",
       "    </tr>\n",
       "    <tr>\n",
       "      <th>9</th>\n",
       "      <td>14486</td>\n",
       "      <td>EPX</td>\n",
       "      <td>Travel Agency</td>\n",
       "      <td>Online</td>\n",
       "      <td>Cancellation Plan</td>\n",
       "      <td>0</td>\n",
       "      <td>100</td>\n",
       "      <td>INDONESIA</td>\n",
       "      <td>21.0</td>\n",
       "      <td>0.00</td>\n",
       "      <td>NaN</td>\n",
       "      <td>47</td>\n",
       "    </tr>\n",
       "    <tr>\n",
       "      <th>10</th>\n",
       "      <td>5470</td>\n",
       "      <td>EPX</td>\n",
       "      <td>Travel Agency</td>\n",
       "      <td>Online</td>\n",
       "      <td>2 way Comprehensive Plan</td>\n",
       "      <td>0</td>\n",
       "      <td>71</td>\n",
       "      <td>THAILAND</td>\n",
       "      <td>23.0</td>\n",
       "      <td>0.00</td>\n",
       "      <td>NaN</td>\n",
       "      <td>36</td>\n",
       "    </tr>\n",
       "    <tr>\n",
       "      <th>11</th>\n",
       "      <td>7902</td>\n",
       "      <td>EPX</td>\n",
       "      <td>Travel Agency</td>\n",
       "      <td>Online</td>\n",
       "      <td>Cancellation Plan</td>\n",
       "      <td>0</td>\n",
       "      <td>7</td>\n",
       "      <td>UNITED STATES</td>\n",
       "      <td>57.0</td>\n",
       "      <td>0.00</td>\n",
       "      <td>NaN</td>\n",
       "      <td>50</td>\n",
       "    </tr>\n",
       "    <tr>\n",
       "      <th>12</th>\n",
       "      <td>38182</td>\n",
       "      <td>EPX</td>\n",
       "      <td>Travel Agency</td>\n",
       "      <td>Online</td>\n",
       "      <td>Cancellation Plan</td>\n",
       "      <td>0</td>\n",
       "      <td>18</td>\n",
       "      <td>SINGAPORE</td>\n",
       "      <td>10.0</td>\n",
       "      <td>0.00</td>\n",
       "      <td>NaN</td>\n",
       "      <td>36</td>\n",
       "    </tr>\n",
       "    <tr>\n",
       "      <th>13</th>\n",
       "      <td>31023</td>\n",
       "      <td>C2B</td>\n",
       "      <td>Airlines</td>\n",
       "      <td>Online</td>\n",
       "      <td>Bronze Plan</td>\n",
       "      <td>0</td>\n",
       "      <td>15</td>\n",
       "      <td>SINGAPORE</td>\n",
       "      <td>18.0</td>\n",
       "      <td>4.50</td>\n",
       "      <td>M</td>\n",
       "      <td>42</td>\n",
       "    </tr>\n",
       "    <tr>\n",
       "      <th>14</th>\n",
       "      <td>39039</td>\n",
       "      <td>CWT</td>\n",
       "      <td>Travel Agency</td>\n",
       "      <td>Online</td>\n",
       "      <td>Rental Vehicle Excess Insurance</td>\n",
       "      <td>0</td>\n",
       "      <td>20</td>\n",
       "      <td>AUSTRALIA</td>\n",
       "      <td>39.6</td>\n",
       "      <td>23.76</td>\n",
       "      <td>NaN</td>\n",
       "      <td>45</td>\n",
       "    </tr>\n",
       "    <tr>\n",
       "      <th>15</th>\n",
       "      <td>42497</td>\n",
       "      <td>EPX</td>\n",
       "      <td>Travel Agency</td>\n",
       "      <td>Online</td>\n",
       "      <td>Cancellation Plan</td>\n",
       "      <td>0</td>\n",
       "      <td>27</td>\n",
       "      <td>MALAYSIA</td>\n",
       "      <td>10.0</td>\n",
       "      <td>0.00</td>\n",
       "      <td>NaN</td>\n",
       "      <td>36</td>\n",
       "    </tr>\n",
       "    <tr>\n",
       "      <th>16</th>\n",
       "      <td>23516</td>\n",
       "      <td>SSI</td>\n",
       "      <td>Airlines</td>\n",
       "      <td>Online</td>\n",
       "      <td>Ticket Protector</td>\n",
       "      <td>0</td>\n",
       "      <td>162</td>\n",
       "      <td>SINGAPORE</td>\n",
       "      <td>7.0</td>\n",
       "      <td>1.96</td>\n",
       "      <td>NaN</td>\n",
       "      <td>48</td>\n",
       "    </tr>\n",
       "    <tr>\n",
       "      <th>17</th>\n",
       "      <td>43173</td>\n",
       "      <td>EPX</td>\n",
       "      <td>Travel Agency</td>\n",
       "      <td>Online</td>\n",
       "      <td>1 way Comprehensive Plan</td>\n",
       "      <td>0</td>\n",
       "      <td>5</td>\n",
       "      <td>CHINA</td>\n",
       "      <td>20.0</td>\n",
       "      <td>0.00</td>\n",
       "      <td>NaN</td>\n",
       "      <td>36</td>\n",
       "    </tr>\n",
       "    <tr>\n",
       "      <th>18</th>\n",
       "      <td>21158</td>\n",
       "      <td>CSR</td>\n",
       "      <td>Travel Agency</td>\n",
       "      <td>Offline</td>\n",
       "      <td>Comprehensive Plan</td>\n",
       "      <td>0</td>\n",
       "      <td>240</td>\n",
       "      <td>THAILAND</td>\n",
       "      <td>29.0</td>\n",
       "      <td>9.57</td>\n",
       "      <td>F</td>\n",
       "      <td>26</td>\n",
       "    </tr>\n",
       "    <tr>\n",
       "      <th>19</th>\n",
       "      <td>3623</td>\n",
       "      <td>CWT</td>\n",
       "      <td>Travel Agency</td>\n",
       "      <td>Online</td>\n",
       "      <td>Rental Vehicle Excess Insurance</td>\n",
       "      <td>0</td>\n",
       "      <td>140</td>\n",
       "      <td>SPAIN</td>\n",
       "      <td>0.0</td>\n",
       "      <td>23.76</td>\n",
       "      <td>NaN</td>\n",
       "      <td>31</td>\n",
       "    </tr>\n",
       "    <tr>\n",
       "      <th>20</th>\n",
       "      <td>38057</td>\n",
       "      <td>EPX</td>\n",
       "      <td>Travel Agency</td>\n",
       "      <td>Online</td>\n",
       "      <td>1 way Comprehensive Plan</td>\n",
       "      <td>0</td>\n",
       "      <td>8</td>\n",
       "      <td>MEXICO</td>\n",
       "      <td>112.0</td>\n",
       "      <td>0.00</td>\n",
       "      <td>NaN</td>\n",
       "      <td>35</td>\n",
       "    </tr>\n",
       "    <tr>\n",
       "      <th>21</th>\n",
       "      <td>8024</td>\n",
       "      <td>EPX</td>\n",
       "      <td>Travel Agency</td>\n",
       "      <td>Online</td>\n",
       "      <td>2 way Comprehensive Plan</td>\n",
       "      <td>0</td>\n",
       "      <td>36</td>\n",
       "      <td>UNITED KINGDOM</td>\n",
       "      <td>78.0</td>\n",
       "      <td>0.00</td>\n",
       "      <td>NaN</td>\n",
       "      <td>36</td>\n",
       "    </tr>\n",
       "    <tr>\n",
       "      <th>22</th>\n",
       "      <td>52345</td>\n",
       "      <td>EPX</td>\n",
       "      <td>Travel Agency</td>\n",
       "      <td>Online</td>\n",
       "      <td>1 way Comprehensive Plan</td>\n",
       "      <td>0</td>\n",
       "      <td>3</td>\n",
       "      <td>MALAYSIA</td>\n",
       "      <td>20.0</td>\n",
       "      <td>0.00</td>\n",
       "      <td>NaN</td>\n",
       "      <td>36</td>\n",
       "    </tr>\n",
       "    <tr>\n",
       "      <th>23</th>\n",
       "      <td>9961</td>\n",
       "      <td>CWT</td>\n",
       "      <td>Travel Agency</td>\n",
       "      <td>Online</td>\n",
       "      <td>Rental Vehicle Excess Insurance</td>\n",
       "      <td>0</td>\n",
       "      <td>8</td>\n",
       "      <td>AUSTRALIA</td>\n",
       "      <td>49.5</td>\n",
       "      <td>29.70</td>\n",
       "      <td>NaN</td>\n",
       "      <td>32</td>\n",
       "    </tr>\n",
       "    <tr>\n",
       "      <th>24</th>\n",
       "      <td>27257</td>\n",
       "      <td>JZI</td>\n",
       "      <td>Airlines</td>\n",
       "      <td>Online</td>\n",
       "      <td>Basic Plan</td>\n",
       "      <td>0</td>\n",
       "      <td>14</td>\n",
       "      <td>THAILAND</td>\n",
       "      <td>18.0</td>\n",
       "      <td>6.30</td>\n",
       "      <td>F</td>\n",
       "      <td>28</td>\n",
       "    </tr>\n",
       "  </tbody>\n",
       "</table>\n",
       "</div>"
      ],
      "text/plain": [
       "       ID Agency    Agency Type Distribution Channel  \\\n",
       "0    3433    CWT  Travel Agency               Online   \n",
       "1    4339    EPX  Travel Agency               Online   \n",
       "2   34590    CWT  Travel Agency               Online   \n",
       "3   55816    EPX  Travel Agency               Online   \n",
       "4   13816    EPX  Travel Agency               Online   \n",
       "5   50349    CWT  Travel Agency               Online   \n",
       "6    9921    JZI       Airlines               Online   \n",
       "7   21923    JZI       Airlines               Online   \n",
       "8    2236    CWT  Travel Agency               Online   \n",
       "9   14486    EPX  Travel Agency               Online   \n",
       "10   5470    EPX  Travel Agency               Online   \n",
       "11   7902    EPX  Travel Agency               Online   \n",
       "12  38182    EPX  Travel Agency               Online   \n",
       "13  31023    C2B       Airlines               Online   \n",
       "14  39039    CWT  Travel Agency               Online   \n",
       "15  42497    EPX  Travel Agency               Online   \n",
       "16  23516    SSI       Airlines               Online   \n",
       "17  43173    EPX  Travel Agency               Online   \n",
       "18  21158    CSR  Travel Agency              Offline   \n",
       "19   3623    CWT  Travel Agency               Online   \n",
       "20  38057    EPX  Travel Agency               Online   \n",
       "21   8024    EPX  Travel Agency               Online   \n",
       "22  52345    EPX  Travel Agency               Online   \n",
       "23   9961    CWT  Travel Agency               Online   \n",
       "24  27257    JZI       Airlines               Online   \n",
       "\n",
       "                       Product Name  Claim  Duration         Destination  \\\n",
       "0   Rental Vehicle Excess Insurance      0         7            MALAYSIA   \n",
       "1                 Cancellation Plan      0        85           SINGAPORE   \n",
       "2   Rental Vehicle Excess Insurance      0        11            MALAYSIA   \n",
       "3          2 way Comprehensive Plan      0        16           INDONESIA   \n",
       "4                 Cancellation Plan      0        10  KOREA, REPUBLIC OF   \n",
       "5   Rental Vehicle Excess Insurance      0        64            THAILAND   \n",
       "6                        Value Plan      0        23               JAPAN   \n",
       "7                        Basic Plan      0        31           HONG KONG   \n",
       "8   Rental Vehicle Excess Insurance      0         5           AUSTRALIA   \n",
       "9                 Cancellation Plan      0       100           INDONESIA   \n",
       "10         2 way Comprehensive Plan      0        71            THAILAND   \n",
       "11                Cancellation Plan      0         7       UNITED STATES   \n",
       "12                Cancellation Plan      0        18           SINGAPORE   \n",
       "13                      Bronze Plan      0        15           SINGAPORE   \n",
       "14  Rental Vehicle Excess Insurance      0        20           AUSTRALIA   \n",
       "15                Cancellation Plan      0        27            MALAYSIA   \n",
       "16                 Ticket Protector      0       162           SINGAPORE   \n",
       "17         1 way Comprehensive Plan      0         5               CHINA   \n",
       "18               Comprehensive Plan      0       240            THAILAND   \n",
       "19  Rental Vehicle Excess Insurance      0       140               SPAIN   \n",
       "20         1 way Comprehensive Plan      0         8              MEXICO   \n",
       "21         2 way Comprehensive Plan      0        36      UNITED KINGDOM   \n",
       "22         1 way Comprehensive Plan      0         3            MALAYSIA   \n",
       "23  Rental Vehicle Excess Insurance      0         8           AUSTRALIA   \n",
       "24                       Basic Plan      0        14            THAILAND   \n",
       "\n",
       "    Net Sales  Commision (in value) Gender  Age  \n",
       "0         0.0                 17.82    NaN   31  \n",
       "1        69.0                  0.00    NaN   36  \n",
       "2        19.8                 11.88    NaN   75  \n",
       "3        20.0                  0.00    NaN   32  \n",
       "4        15.0                  0.00    NaN   29  \n",
       "5        49.5                 29.70    NaN   36  \n",
       "6       -69.0                 24.15      F   26  \n",
       "7        26.0                  9.10      M   60  \n",
       "8        19.8                 11.88    NaN   57  \n",
       "9        21.0                  0.00    NaN   47  \n",
       "10       23.0                  0.00    NaN   36  \n",
       "11       57.0                  0.00    NaN   50  \n",
       "12       10.0                  0.00    NaN   36  \n",
       "13       18.0                  4.50      M   42  \n",
       "14       39.6                 23.76    NaN   45  \n",
       "15       10.0                  0.00    NaN   36  \n",
       "16        7.0                  1.96    NaN   48  \n",
       "17       20.0                  0.00    NaN   36  \n",
       "18       29.0                  9.57      F   26  \n",
       "19        0.0                 23.76    NaN   31  \n",
       "20      112.0                  0.00    NaN   35  \n",
       "21       78.0                  0.00    NaN   36  \n",
       "22       20.0                  0.00    NaN   36  \n",
       "23       49.5                 29.70    NaN   32  \n",
       "24       18.0                  6.30      F   28  "
      ]
     },
     "execution_count": 5,
     "metadata": {},
     "output_type": "execute_result"
    }
   ],
   "source": [
    "train_df.head(25)"
   ]
  },
  {
   "cell_type": "code",
   "execution_count": 6,
   "metadata": {},
   "outputs": [],
   "source": [
    "#creating copy of my train and validation dataset\n",
    "train = train_df.copy()\n",
    "test = test_df.copy()"
   ]
  },
  {
   "cell_type": "code",
   "execution_count": 12,
   "metadata": {},
   "outputs": [
    {
     "name": "stdout",
     "output_type": "stream",
     "text": [
      "ID                          0\n",
      "Agency                      0\n",
      "Agency Type                 0\n",
      "Distribution Channel        0\n",
      "Product Name                0\n",
      "Claim                       0\n",
      "Duration                    0\n",
      "Destination                 0\n",
      "Net Sales                   0\n",
      "Commision (in value)        0\n",
      "Gender                  35953\n",
      "Age                         0\n",
      "dtype: int64\n"
     ]
    },
    {
     "data": {
      "text/plain": [
       "(50553, 12)"
      ]
     },
     "execution_count": 12,
     "metadata": {},
     "output_type": "execute_result"
    }
   ],
   "source": [
    "print(train.isnull().sum())\n",
    "train.shape"
   ]
  },
  {
   "cell_type": "code",
   "execution_count": 13,
   "metadata": {},
   "outputs": [
    {
     "name": "stdout",
     "output_type": "stream",
     "text": [
      "ID                         0\n",
      "Agency                     0\n",
      "Agency Type                0\n",
      "Distribution Channel       0\n",
      "Product Name               0\n",
      "Duration                   0\n",
      "Destination                0\n",
      "Net Sales                  0\n",
      "Commision (in value)       0\n",
      "Gender                  9056\n",
      "Age                        0\n",
      "dtype: int64\n"
     ]
    },
    {
     "data": {
      "text/plain": [
       "(12661, 11)"
      ]
     },
     "execution_count": 13,
     "metadata": {},
     "output_type": "execute_result"
    }
   ],
   "source": [
    "print(test.isnull().sum())\n",
    "test.shape"
   ]
  },
  {
   "cell_type": "markdown",
   "metadata": {},
   "source": [
    "Gender columns has more than 70 percent null values in both train and test data, so i think, i is should drop it. because if i will replace it with third kind of gender such as unknown or not specified then it can affect the final prediction."
   ]
  },
  {
   "cell_type": "code",
   "execution_count": 7,
   "metadata": {},
   "outputs": [
    {
     "data": {
      "text/html": [
       "<div>\n",
       "<style scoped>\n",
       "    .dataframe tbody tr th:only-of-type {\n",
       "        vertical-align: middle;\n",
       "    }\n",
       "\n",
       "    .dataframe tbody tr th {\n",
       "        vertical-align: top;\n",
       "    }\n",
       "\n",
       "    .dataframe thead th {\n",
       "        text-align: right;\n",
       "    }\n",
       "</style>\n",
       "<table border=\"1\" class=\"dataframe\">\n",
       "  <thead>\n",
       "    <tr style=\"text-align: right;\">\n",
       "      <th></th>\n",
       "      <th>ID</th>\n",
       "      <th>Claim</th>\n",
       "      <th>Duration</th>\n",
       "      <th>Net Sales</th>\n",
       "      <th>Commision (in value)</th>\n",
       "      <th>Age</th>\n",
       "    </tr>\n",
       "  </thead>\n",
       "  <tbody>\n",
       "    <tr>\n",
       "      <th>count</th>\n",
       "      <td>50553.000000</td>\n",
       "      <td>50553.000000</td>\n",
       "      <td>50553.000000</td>\n",
       "      <td>50553.000000</td>\n",
       "      <td>50553.00000</td>\n",
       "      <td>50553.000000</td>\n",
       "    </tr>\n",
       "    <tr>\n",
       "      <th>mean</th>\n",
       "      <td>31679.740134</td>\n",
       "      <td>0.014658</td>\n",
       "      <td>49.425969</td>\n",
       "      <td>40.800977</td>\n",
       "      <td>9.83809</td>\n",
       "      <td>40.011236</td>\n",
       "    </tr>\n",
       "    <tr>\n",
       "      <th>std</th>\n",
       "      <td>18288.265350</td>\n",
       "      <td>0.120180</td>\n",
       "      <td>101.434647</td>\n",
       "      <td>48.899683</td>\n",
       "      <td>19.91004</td>\n",
       "      <td>14.076566</td>\n",
       "    </tr>\n",
       "    <tr>\n",
       "      <th>min</th>\n",
       "      <td>0.000000</td>\n",
       "      <td>0.000000</td>\n",
       "      <td>-2.000000</td>\n",
       "      <td>-389.000000</td>\n",
       "      <td>0.00000</td>\n",
       "      <td>0.000000</td>\n",
       "    </tr>\n",
       "    <tr>\n",
       "      <th>25%</th>\n",
       "      <td>15891.000000</td>\n",
       "      <td>0.000000</td>\n",
       "      <td>9.000000</td>\n",
       "      <td>18.000000</td>\n",
       "      <td>0.00000</td>\n",
       "      <td>35.000000</td>\n",
       "    </tr>\n",
       "    <tr>\n",
       "      <th>50%</th>\n",
       "      <td>31657.000000</td>\n",
       "      <td>0.000000</td>\n",
       "      <td>22.000000</td>\n",
       "      <td>26.500000</td>\n",
       "      <td>0.00000</td>\n",
       "      <td>36.000000</td>\n",
       "    </tr>\n",
       "    <tr>\n",
       "      <th>75%</th>\n",
       "      <td>47547.000000</td>\n",
       "      <td>0.000000</td>\n",
       "      <td>53.000000</td>\n",
       "      <td>48.000000</td>\n",
       "      <td>11.55000</td>\n",
       "      <td>44.000000</td>\n",
       "    </tr>\n",
       "    <tr>\n",
       "      <th>max</th>\n",
       "      <td>63325.000000</td>\n",
       "      <td>1.000000</td>\n",
       "      <td>4881.000000</td>\n",
       "      <td>810.000000</td>\n",
       "      <td>283.50000</td>\n",
       "      <td>118.000000</td>\n",
       "    </tr>\n",
       "  </tbody>\n",
       "</table>\n",
       "</div>"
      ],
      "text/plain": [
       "                 ID         Claim      Duration     Net Sales  \\\n",
       "count  50553.000000  50553.000000  50553.000000  50553.000000   \n",
       "mean   31679.740134      0.014658     49.425969     40.800977   \n",
       "std    18288.265350      0.120180    101.434647     48.899683   \n",
       "min        0.000000      0.000000     -2.000000   -389.000000   \n",
       "25%    15891.000000      0.000000      9.000000     18.000000   \n",
       "50%    31657.000000      0.000000     22.000000     26.500000   \n",
       "75%    47547.000000      0.000000     53.000000     48.000000   \n",
       "max    63325.000000      1.000000   4881.000000    810.000000   \n",
       "\n",
       "       Commision (in value)           Age  \n",
       "count           50553.00000  50553.000000  \n",
       "mean                9.83809     40.011236  \n",
       "std                19.91004     14.076566  \n",
       "min                 0.00000      0.000000  \n",
       "25%                 0.00000     35.000000  \n",
       "50%                 0.00000     36.000000  \n",
       "75%                11.55000     44.000000  \n",
       "max               283.50000    118.000000  "
      ]
     },
     "execution_count": 7,
     "metadata": {},
     "output_type": "execute_result"
    }
   ],
   "source": [
    "train.describe()"
   ]
  },
  {
   "cell_type": "code",
   "execution_count": 8,
   "metadata": {},
   "outputs": [
    {
     "data": {
      "text/html": [
       "<div>\n",
       "<style scoped>\n",
       "    .dataframe tbody tr th:only-of-type {\n",
       "        vertical-align: middle;\n",
       "    }\n",
       "\n",
       "    .dataframe tbody tr th {\n",
       "        vertical-align: top;\n",
       "    }\n",
       "\n",
       "    .dataframe thead th {\n",
       "        text-align: right;\n",
       "    }\n",
       "</style>\n",
       "<table border=\"1\" class=\"dataframe\">\n",
       "  <thead>\n",
       "    <tr style=\"text-align: right;\">\n",
       "      <th></th>\n",
       "      <th>ID</th>\n",
       "      <th>Duration</th>\n",
       "      <th>Net Sales</th>\n",
       "      <th>Commision (in value)</th>\n",
       "      <th>Age</th>\n",
       "    </tr>\n",
       "  </thead>\n",
       "  <tbody>\n",
       "    <tr>\n",
       "      <th>count</th>\n",
       "      <td>12661.000000</td>\n",
       "      <td>12661.000000</td>\n",
       "      <td>12661.000000</td>\n",
       "      <td>12661.000000</td>\n",
       "      <td>12661.000000</td>\n",
       "    </tr>\n",
       "    <tr>\n",
       "      <th>mean</th>\n",
       "      <td>31617.928916</td>\n",
       "      <td>48.924335</td>\n",
       "      <td>40.148315</td>\n",
       "      <td>9.716776</td>\n",
       "      <td>39.818656</td>\n",
       "    </tr>\n",
       "    <tr>\n",
       "      <th>std</th>\n",
       "      <td>18249.761839</td>\n",
       "      <td>103.529989</td>\n",
       "      <td>48.686831</td>\n",
       "      <td>19.401245</td>\n",
       "      <td>13.787062</td>\n",
       "    </tr>\n",
       "    <tr>\n",
       "      <th>min</th>\n",
       "      <td>7.000000</td>\n",
       "      <td>-1.000000</td>\n",
       "      <td>-357.500000</td>\n",
       "      <td>0.000000</td>\n",
       "      <td>1.000000</td>\n",
       "    </tr>\n",
       "    <tr>\n",
       "      <th>25%</th>\n",
       "      <td>15616.000000</td>\n",
       "      <td>9.000000</td>\n",
       "      <td>18.000000</td>\n",
       "      <td>0.000000</td>\n",
       "      <td>35.000000</td>\n",
       "    </tr>\n",
       "    <tr>\n",
       "      <th>50%</th>\n",
       "      <td>31760.000000</td>\n",
       "      <td>22.000000</td>\n",
       "      <td>26.500000</td>\n",
       "      <td>0.000000</td>\n",
       "      <td>36.000000</td>\n",
       "    </tr>\n",
       "    <tr>\n",
       "      <th>75%</th>\n",
       "      <td>47289.000000</td>\n",
       "      <td>52.000000</td>\n",
       "      <td>47.000000</td>\n",
       "      <td>11.550000</td>\n",
       "      <td>43.000000</td>\n",
       "    </tr>\n",
       "    <tr>\n",
       "      <th>max</th>\n",
       "      <td>63322.000000</td>\n",
       "      <td>4847.000000</td>\n",
       "      <td>586.000000</td>\n",
       "      <td>210.210000</td>\n",
       "      <td>118.000000</td>\n",
       "    </tr>\n",
       "  </tbody>\n",
       "</table>\n",
       "</div>"
      ],
      "text/plain": [
       "                 ID      Duration     Net Sales  Commision (in value)  \\\n",
       "count  12661.000000  12661.000000  12661.000000          12661.000000   \n",
       "mean   31617.928916     48.924335     40.148315              9.716776   \n",
       "std    18249.761839    103.529989     48.686831             19.401245   \n",
       "min        7.000000     -1.000000   -357.500000              0.000000   \n",
       "25%    15616.000000      9.000000     18.000000              0.000000   \n",
       "50%    31760.000000     22.000000     26.500000              0.000000   \n",
       "75%    47289.000000     52.000000     47.000000             11.550000   \n",
       "max    63322.000000   4847.000000    586.000000            210.210000   \n",
       "\n",
       "                Age  \n",
       "count  12661.000000  \n",
       "mean      39.818656  \n",
       "std       13.787062  \n",
       "min        1.000000  \n",
       "25%       35.000000  \n",
       "50%       36.000000  \n",
       "75%       43.000000  \n",
       "max      118.000000  "
      ]
     },
     "execution_count": 8,
     "metadata": {},
     "output_type": "execute_result"
    }
   ],
   "source": [
    "test.describe()"
   ]
  },
  {
   "cell_type": "code",
   "execution_count": 16,
   "metadata": {},
   "outputs": [],
   "source": [
    "train.drop([\"ID\", \"Gender\"],1 , inplace = True)\n",
    "test.drop([\"ID\", \"Gender\"],1 , inplace = True)"
   ]
  },
  {
   "cell_type": "code",
   "execution_count": 17,
   "metadata": {},
   "outputs": [],
   "source": [
    "import matplotlib.pyplot as plt\n",
    "import seaborn as sns"
   ]
  },
  {
   "cell_type": "code",
   "execution_count": 18,
   "metadata": {},
   "outputs": [
    {
     "data": {
      "text/plain": [
       "Text(0.5, 1.0, 'relationship between claim and age')"
      ]
     },
     "execution_count": 18,
     "metadata": {},
     "output_type": "execute_result"
    },
    {
     "data": {
      "image/png": "[encoded data removed]",
      "text/plain": [
       "<Figure size 720x720 with 1 Axes>"
      ]
     },
     "metadata": {
      "needs_background": "light"
     },
     "output_type": "display_data"
    }
   ],
   "source": [
    "fig, axes = plt.subplots(figsize=(10, 10))\n",
    "\n",
    "ax = sns.distplot(train[train['Claim']==1].Age.dropna(), bins=20, label = \"claimed\", ax = axes, kde =True)\n",
    "ax = sns.distplot(train[train['Claim']==0].Age.dropna(), bins=20, label = \"not_claimed\", ax = axes, kde =True)\n",
    "ax.legend()\n",
    "ax.set_title('relationship between claim and age')"
   ]
  },
  {
   "cell_type": "markdown",
   "metadata": {},
   "source": [
    "Observation: we can see that some people have age between 110 to 120 and some of them also have claimed insurance which is next to impossible. so we consider them as outlier. will handle them later on. let's check all other numerical features first."
   ]
  },
  {
   "cell_type": "code",
   "execution_count": 19,
   "metadata": {},
   "outputs": [
    {
     "data": {
      "text/plain": [
       "Text(0.5, 1.0, 'relationship between claim and duration')"
      ]
     },
     "execution_count": 19,
     "metadata": {},
     "output_type": "execute_result"
    },
    {
     "data": {
      "image/png": "[encoded data removed]",
      "text/plain": [
       "<Figure size 720x720 with 1 Axes>"
      ]
     },
     "metadata": {
      "needs_background": "light"
     },
     "output_type": "display_data"
    }
   ],
   "source": [
    "fig, axes = plt.subplots(figsize=(10, 10))\n",
    "\n",
    "ax = sns.distplot(train[train['Claim']==1][\"Duration\"].dropna(), bins=20, label = \"claimed\", ax = axes, kde =True)\n",
    "ax = sns.distplot(train[train['Claim']==0][\"Duration\"].dropna(), bins=20, label = \"not_claimed\", ax = axes, kde =True)\n",
    "ax.legend()\n",
    "ax.set_title('relationship between claim and duration')"
   ]
  },
  {
   "cell_type": "markdown",
   "metadata": {},
   "source": [
    "Observation: We can see that we have some negative values in Duration column which is practically impossible and also our distribution is highly rightly skewed it means we have some outliers too. wil handle negative values and outliers both after analyzing rest of the numerical features."
   ]
  },
  {
   "cell_type": "code",
   "execution_count": 20,
   "metadata": {},
   "outputs": [
    {
     "data": {
      "text/plain": [
       "Text(0.5, 1.0, 'relationship between claim and net sales')"
      ]
     },
     "execution_count": 20,
     "metadata": {},
     "output_type": "execute_result"
    },
    {
     "data": {
      "image/png": "[encoded data removed]",
      "text/plain": [
       "<Figure size 720x720 with 1 Axes>"
      ]
     },
     "metadata": {
      "needs_background": "light"
     },
     "output_type": "display_data"
    }
   ],
   "source": [
    "fig, axes = plt.subplots(figsize=(10, 10))\n",
    "\n",
    "ax = sns.distplot(train[train['Claim']==1][\"Net Sales\"].dropna(), bins=20, label = \"claimed\", ax = axes, kde =True)\n",
    "ax = sns.distplot(train[train['Claim']==0][\"Net Sales\"].dropna(), bins=20, label = \"not_claimed\", ax = axes, kde =True)\n",
    "ax.legend()\n",
    "ax.set_title('relationship between claim and net sales')"
   ]
  },
  {
   "cell_type": "markdown",
   "metadata": {},
   "source": [
    "Observation: Again this distribution is also skewed and has some negative value and we know that Net Sales can never be negative."
   ]
  },
  {
   "cell_type": "code",
   "execution_count": 21,
   "metadata": {},
   "outputs": [
    {
     "data": {
      "text/plain": [
       "Text(0.5, 1.0, 'relationship between claim and commission')"
      ]
     },
     "execution_count": 21,
     "metadata": {},
     "output_type": "execute_result"
    },
    {
     "data": {
      "image/png": "[encoded data removed]",
      "text/plain": [
       "<Figure size 720x720 with 1 Axes>"
      ]
     },
     "metadata": {
      "needs_background": "light"
     },
     "output_type": "display_data"
    }
   ],
   "source": [
    "fig, axes = plt.subplots(figsize=(10, 10))\n",
    "\n",
    "ax = sns.distplot(train[train['Claim']==1][\"Commision (in value)\"].dropna(), bins=20, label = \"claimed\", ax = axes, kde =True)\n",
    "ax = sns.distplot(train[train['Claim']==0][\"Commision (in value)\"].dropna(), bins=20, label = \"not_claimed\", ax = axes, kde =True)\n",
    "ax.legend()\n",
    "ax.set_title('relationship between claim and commission')"
   ]
  },
  {
   "cell_type": "markdown",
   "metadata": {},
   "source": [
    "Observation: Commision in value is also highly rightly skewed."
   ]
  },
  {
   "cell_type": "markdown",
   "metadata": {},
   "source": [
    "Net Sales and Commison: These both column seems to related but the graph plot shows disparency as low net sales shows high commison which is not pratically possible."
   ]
  },
  {
   "cell_type": "markdown",
   "metadata": {},
   "source": [
    "# Handling Outliers and Negative Values:"
   ]
  },
  {
   "cell_type": "code",
   "execution_count": 22,
   "metadata": {},
   "outputs": [],
   "source": [
    "#Taking absolute values of Net Sales and Duration from both train and validation dataset\n",
    "train[\"Net Sales\"] = abs(train[\"Net Sales\"])\n",
    "train[\"Duration\"] = abs(train[\"Duration\"])\n",
    "test[\"Net Sales\"] = abs(test[\"Net Sales\"])\n",
    "test[\"Duration\"] = abs(test[\"Duration\"])"
   ]
  },
  {
   "cell_type": "markdown",
   "metadata": {},
   "source": [
    "Replacing all outliers with mean+2*standard deviation to keep it into confidence interval."
   ]
  },
  {
   "cell_type": "code",
   "execution_count": 23,
   "metadata": {},
   "outputs": [],
   "source": [
    "train['Duration'] = train['Duration'].replace(train[train['Duration'] > 251 ]['Duration'] , 251)\n",
    "train['Net Sales'] = train['Net Sales'].replace(train[train['Net Sales'] > 136 ]['Net Sales'] , 136)\n",
    "train['Age'] = train['Age'].replace(118,80)\n",
    "train[\"Commision (in value)\"] = train[\"Commision (in value)\"].replace(train[train[\"Commision (in value)\"]>48][\"Commision (in value)\"],48)"
   ]
  },
  {
   "cell_type": "markdown",
   "metadata": {},
   "source": [
    "# Visualization after handling outliers and Negative values"
   ]
  },
  {
   "cell_type": "code",
   "execution_count": 24,
   "metadata": {},
   "outputs": [
    {
     "data": {
      "text/plain": [
       "<matplotlib.axes._subplots.AxesSubplot at 0x1a1f5dbf60>"
      ]
     },
     "execution_count": 24,
     "metadata": {},
     "output_type": "execute_result"
    },
    {
     "data": {
      "image/png": "[encoded data removed]",
      "text/plain": [
       "<Figure size 432x288 with 1 Axes>"
      ]
     },
     "metadata": {
      "needs_background": "light"
     },
     "output_type": "display_data"
    }
   ],
   "source": [
    "sns.distplot(train[\"Net Sales\"],bins=50)"
   ]
  },
  {
   "cell_type": "code",
   "execution_count": 25,
   "metadata": {},
   "outputs": [
    {
     "data": {
      "text/plain": [
       "<matplotlib.axes._subplots.AxesSubplot at 0x1a1f4a7da0>"
      ]
     },
     "execution_count": 25,
     "metadata": {},
     "output_type": "execute_result"
    },
    {
     "data": {
      "image/png": "[encoded data removed]",
      "text/plain": [
       "<Figure size 432x288 with 1 Axes>"
      ]
     },
     "metadata": {
      "needs_background": "light"
     },
     "output_type": "display_data"
    }
   ],
   "source": [
    "sns.distplot(train[\"Duration\"],bins=50)"
   ]
  },
  {
   "cell_type": "code",
   "execution_count": 26,
   "metadata": {},
   "outputs": [
    {
     "data": {
      "text/plain": [
       "<matplotlib.axes._subplots.AxesSubplot at 0x1a1fe73cf8>"
      ]
     },
     "execution_count": 26,
     "metadata": {},
     "output_type": "execute_result"
    },
    {
     "data": {
      "image/png": "[encoded data removed]",
      "text/plain": [
       "<Figure size 432x288 with 1 Axes>"
      ]
     },
     "metadata": {
      "needs_background": "light"
     },
     "output_type": "display_data"
    }
   ],
   "source": [
    "sns.distplot(train[\"Commision (in value)\"],bins=50)"
   ]
  },
  {
   "cell_type": "code",
   "execution_count": 27,
   "metadata": {},
   "outputs": [
    {
     "data": {
      "text/plain": [
       "['Agency',\n",
       " 'Agency Type',\n",
       " 'Distribution Channel',\n",
       " 'Product Name',\n",
       " 'Destination']"
      ]
     },
     "execution_count": 27,
     "metadata": {},
     "output_type": "execute_result"
    }
   ],
   "source": [
    "cat_cols = list(train.select_dtypes(exclude = \"number\"))\n",
    "cat_cols"
   ]
  },
  {
   "cell_type": "code",
   "execution_count": 33,
   "metadata": {},
   "outputs": [
    {
     "data": {
      "text/plain": [
       "(array([ 0,  1,  2,  3,  4,  5,  6,  7,  8,  9, 10, 11, 12, 13, 14, 15]),\n",
       " <a list of 16 Text xticklabel objects>)"
      ]
     },
     "execution_count": 33,
     "metadata": {},
     "output_type": "execute_result"
    },
    {
     "data": {
      "image/png": "[encoded data removed]",
      "text/plain": [
       "<Figure size 1080x504 with 1 Axes>"
      ]
     },
     "metadata": {
      "needs_background": "light"
     },
     "output_type": "display_data"
    }
   ],
   "source": [
    "plt.figure(figsize=(15,7))\n",
    "sns.countplot(train[\"Agency\"])\n",
    "plt.xticks(rotation = 90)"
   ]
  },
  {
   "cell_type": "code",
   "execution_count": 35,
   "metadata": {},
   "outputs": [
    {
     "data": {
      "text/plain": [
       "(array([0, 1]), <a list of 2 Text xticklabel objects>)"
      ]
     },
     "execution_count": 35,
     "metadata": {},
     "output_type": "execute_result"
    },
    {
     "data": {
      "image/png": "[encoded data removed]",
      "text/plain": [
       "<Figure size 1080x504 with 1 Axes>"
      ]
     },
     "metadata": {
      "needs_background": "light"
     },
     "output_type": "display_data"
    }
   ],
   "source": [
    "plt.figure(figsize=(15,7))\n",
    "sns.countplot(train[\"Agency Type\"])\n",
    "plt.xticks(rotation = 90)"
   ]
  },
  {
   "cell_type": "code",
   "execution_count": 36,
   "metadata": {},
   "outputs": [
    {
     "data": {
      "text/plain": [
       "(array([0, 1]), <a list of 2 Text xticklabel objects>)"
      ]
     },
     "execution_count": 36,
     "metadata": {},
     "output_type": "execute_result"
    },
    {
     "data": {
      "image/png": "[encoded data removed]",
      "text/plain": [
       "<Figure size 1080x504 with 1 Axes>"
      ]
     },
     "metadata": {
      "needs_background": "light"
     },
     "output_type": "display_data"
    }
   ],
   "source": [
    "plt.figure(figsize=(15,7))\n",
    "sns.countplot(train[\"Distribution Channel\"])\n",
    "plt.xticks(rotation = 90)"
   ]
  },
  {
   "cell_type": "code",
   "execution_count": 37,
   "metadata": {},
   "outputs": [
    {
     "data": {
      "text/plain": [
       "(array([ 0,  1,  2,  3,  4,  5,  6,  7,  8,  9, 10, 11, 12, 13, 14, 15, 16,\n",
       "        17, 18, 19, 20, 21, 22, 23, 24]),\n",
       " <a list of 25 Text xticklabel objects>)"
      ]
     },
     "execution_count": 37,
     "metadata": {},
     "output_type": "execute_result"
    },
    {
     "data": {
      "image/png": "[encoded data removed]",
      "text/plain": [
       "<Figure size 1080x504 with 1 Axes>"
      ]
     },
     "metadata": {
      "needs_background": "light"
     },
     "output_type": "display_data"
    }
   ],
   "source": [
    "plt.figure(figsize=(15,7))\n",
    "sns.countplot(train[\"Product Name\"])\n",
    "plt.xticks(rotation = 90)"
   ]
  },
  {
   "cell_type": "code",
   "execution_count": 38,
   "metadata": {},
   "outputs": [
    {
     "data": {
      "text/plain": [
       "(array([  0,   1,   2,   3,   4,   5,   6,   7,   8,   9,  10,  11,  12,\n",
       "         13,  14,  15,  16,  17,  18,  19,  20,  21,  22,  23,  24,  25,\n",
       "         26,  27,  28,  29,  30,  31,  32,  33,  34,  35,  36,  37,  38,\n",
       "         39,  40,  41,  42,  43,  44,  45,  46,  47,  48,  49,  50,  51,\n",
       "         52,  53,  54,  55,  56,  57,  58,  59,  60,  61,  62,  63,  64,\n",
       "         65,  66,  67,  68,  69,  70,  71,  72,  73,  74,  75,  76,  77,\n",
       "         78,  79,  80,  81,  82,  83,  84,  85,  86,  87,  88,  89,  90,\n",
       "         91,  92,  93,  94,  95,  96,  97,  98,  99, 100, 101]),\n",
       " <a list of 102 Text xticklabel objects>)"
      ]
     },
     "execution_count": 38,
     "metadata": {},
     "output_type": "execute_result"
    },
    {
     "data": {
      "image/png": "[encoded data removed]",
      "text/plain": [
       "<Figure size 1080x504 with 1 Axes>"
      ]
     },
     "metadata": {
      "needs_background": "light"
     },
     "output_type": "display_data"
    }
   ],
   "source": [
    "plt.figure(figsize=(15,7))\n",
    "sns.countplot(train[\"Destination\"])\n",
    "plt.xticks(rotation = 90)"
   ]
  },
  {
   "cell_type": "markdown",
   "metadata": {},
   "source": [
    "Observation: Visualization shows us that Destination and Product Name columns have many categories so i will do one hot encoding in these two and will do label encoding for rest of them."
   ]
  },
  {
   "cell_type": "markdown",
   "metadata": {},
   "source": [
    "# Label_encoding"
   ]
  },
  {
   "cell_type": "code",
   "execution_count": 39,
   "metadata": {},
   "outputs": [],
   "source": [
    "from sklearn.preprocessing import LabelEncoder"
   ]
  },
  {
   "cell_type": "code",
   "execution_count": 40,
   "metadata": {},
   "outputs": [],
   "source": [
    "col_le = ['Agency','Agency Type','Distribution Channel']"
   ]
  },
  {
   "cell_type": "code",
   "execution_count": 41,
   "metadata": {},
   "outputs": [],
   "source": [
    "le = LabelEncoder()\n",
    "for i in list(col_le):\n",
    "    train[i] = le.fit_transform(train[i])\n",
    "    test[i] = le.fit_transform(test[i])"
   ]
  },
  {
   "cell_type": "markdown",
   "metadata": {},
   "source": [
    "# One Hot Encoding:"
   ]
  },
  {
   "cell_type": "code",
   "execution_count": 42,
   "metadata": {},
   "outputs": [],
   "source": [
    "cat_train = train[[\"Product Name\",\"Destination\"]]\n",
    "cat_test = test[[\"Product Name\",\"Destination\"]]"
   ]
  },
  {
   "cell_type": "code",
   "execution_count": 43,
   "metadata": {},
   "outputs": [],
   "source": [
    "#using pandas get_dummies \n",
    "dummy_train = pd.get_dummies(cat_train)\n",
    "dummy_test = pd.get_dummies(cat_test)\n",
    "train_f = pd.concat([train,dummy_train],1)\n",
    "test_f = pd.concat([test,dummy_test],1)"
   ]
  },
  {
   "cell_type": "code",
   "execution_count": 44,
   "metadata": {},
   "outputs": [],
   "source": [
    "#Dropping all existing Categorical columns\n",
    "train_f.drop(list(cat_train),1,inplace = True)\n",
    "test_f.drop(list(cat_test),1,inplace = True)"
   ]
  },
  {
   "cell_type": "code",
   "execution_count": 45,
   "metadata": {},
   "outputs": [
    {
     "data": {
      "text/html": [
       "<div>\n",
       "<style scoped>\n",
       "    .dataframe tbody tr th:only-of-type {\n",
       "        vertical-align: middle;\n",
       "    }\n",
       "\n",
       "    .dataframe tbody tr th {\n",
       "        vertical-align: top;\n",
       "    }\n",
       "\n",
       "    .dataframe thead th {\n",
       "        text-align: right;\n",
       "    }\n",
       "</style>\n",
       "<table border=\"1\" class=\"dataframe\">\n",
       "  <thead>\n",
       "    <tr style=\"text-align: right;\">\n",
       "      <th></th>\n",
       "      <th>Agency</th>\n",
       "      <th>Agency Type</th>\n",
       "      <th>Distribution Channel</th>\n",
       "      <th>Claim</th>\n",
       "      <th>Duration</th>\n",
       "      <th>Net Sales</th>\n",
       "      <th>Commision (in value)</th>\n",
       "      <th>Age</th>\n",
       "      <th>Product Name_1 way Comprehensive Plan</th>\n",
       "      <th>Product Name_2 way Comprehensive Plan</th>\n",
       "      <th>...</th>\n",
       "      <th>Destination_UGANDA</th>\n",
       "      <th>Destination_UKRAINE</th>\n",
       "      <th>Destination_UNITED ARAB EMIRATES</th>\n",
       "      <th>Destination_UNITED KINGDOM</th>\n",
       "      <th>Destination_UNITED STATES</th>\n",
       "      <th>Destination_UZBEKISTAN</th>\n",
       "      <th>Destination_VANUATU</th>\n",
       "      <th>Destination_VENEZUELA</th>\n",
       "      <th>Destination_VIET NAM</th>\n",
       "      <th>Destination_ZAMBIA</th>\n",
       "    </tr>\n",
       "  </thead>\n",
       "  <tbody>\n",
       "    <tr>\n",
       "      <th>0</th>\n",
       "      <td>6</td>\n",
       "      <td>1</td>\n",
       "      <td>1</td>\n",
       "      <td>0</td>\n",
       "      <td>7</td>\n",
       "      <td>0.0</td>\n",
       "      <td>17.82</td>\n",
       "      <td>31</td>\n",
       "      <td>0</td>\n",
       "      <td>0</td>\n",
       "      <td>...</td>\n",
       "      <td>0</td>\n",
       "      <td>0</td>\n",
       "      <td>0</td>\n",
       "      <td>0</td>\n",
       "      <td>0</td>\n",
       "      <td>0</td>\n",
       "      <td>0</td>\n",
       "      <td>0</td>\n",
       "      <td>0</td>\n",
       "      <td>0</td>\n",
       "    </tr>\n",
       "    <tr>\n",
       "      <th>1</th>\n",
       "      <td>7</td>\n",
       "      <td>1</td>\n",
       "      <td>1</td>\n",
       "      <td>0</td>\n",
       "      <td>85</td>\n",
       "      <td>69.0</td>\n",
       "      <td>0.00</td>\n",
       "      <td>36</td>\n",
       "      <td>0</td>\n",
       "      <td>0</td>\n",
       "      <td>...</td>\n",
       "      <td>0</td>\n",
       "      <td>0</td>\n",
       "      <td>0</td>\n",
       "      <td>0</td>\n",
       "      <td>0</td>\n",
       "      <td>0</td>\n",
       "      <td>0</td>\n",
       "      <td>0</td>\n",
       "      <td>0</td>\n",
       "      <td>0</td>\n",
       "    </tr>\n",
       "    <tr>\n",
       "      <th>2</th>\n",
       "      <td>6</td>\n",
       "      <td>1</td>\n",
       "      <td>1</td>\n",
       "      <td>0</td>\n",
       "      <td>11</td>\n",
       "      <td>19.8</td>\n",
       "      <td>11.88</td>\n",
       "      <td>75</td>\n",
       "      <td>0</td>\n",
       "      <td>0</td>\n",
       "      <td>...</td>\n",
       "      <td>0</td>\n",
       "      <td>0</td>\n",
       "      <td>0</td>\n",
       "      <td>0</td>\n",
       "      <td>0</td>\n",
       "      <td>0</td>\n",
       "      <td>0</td>\n",
       "      <td>0</td>\n",
       "      <td>0</td>\n",
       "      <td>0</td>\n",
       "    </tr>\n",
       "    <tr>\n",
       "      <th>3</th>\n",
       "      <td>7</td>\n",
       "      <td>1</td>\n",
       "      <td>1</td>\n",
       "      <td>0</td>\n",
       "      <td>16</td>\n",
       "      <td>20.0</td>\n",
       "      <td>0.00</td>\n",
       "      <td>32</td>\n",
       "      <td>0</td>\n",
       "      <td>1</td>\n",
       "      <td>...</td>\n",
       "      <td>0</td>\n",
       "      <td>0</td>\n",
       "      <td>0</td>\n",
       "      <td>0</td>\n",
       "      <td>0</td>\n",
       "      <td>0</td>\n",
       "      <td>0</td>\n",
       "      <td>0</td>\n",
       "      <td>0</td>\n",
       "      <td>0</td>\n",
       "    </tr>\n",
       "    <tr>\n",
       "      <th>4</th>\n",
       "      <td>7</td>\n",
       "      <td>1</td>\n",
       "      <td>1</td>\n",
       "      <td>0</td>\n",
       "      <td>10</td>\n",
       "      <td>15.0</td>\n",
       "      <td>0.00</td>\n",
       "      <td>29</td>\n",
       "      <td>0</td>\n",
       "      <td>0</td>\n",
       "      <td>...</td>\n",
       "      <td>0</td>\n",
       "      <td>0</td>\n",
       "      <td>0</td>\n",
       "      <td>0</td>\n",
       "      <td>0</td>\n",
       "      <td>0</td>\n",
       "      <td>0</td>\n",
       "      <td>0</td>\n",
       "      <td>0</td>\n",
       "      <td>0</td>\n",
       "    </tr>\n",
       "  </tbody>\n",
       "</table>\n",
       "<p>5 rows × 135 columns</p>\n",
       "</div>"
      ],
      "text/plain": [
       "   Agency  Agency Type  Distribution Channel  Claim  Duration  Net Sales  \\\n",
       "0       6            1                     1      0         7        0.0   \n",
       "1       7            1                     1      0        85       69.0   \n",
       "2       6            1                     1      0        11       19.8   \n",
       "3       7            1                     1      0        16       20.0   \n",
       "4       7            1                     1      0        10       15.0   \n",
       "\n",
       "   Commision (in value)  Age  Product Name_1 way Comprehensive Plan  \\\n",
       "0                 17.82   31                                      0   \n",
       "1                  0.00   36                                      0   \n",
       "2                 11.88   75                                      0   \n",
       "3                  0.00   32                                      0   \n",
       "4                  0.00   29                                      0   \n",
       "\n",
       "   Product Name_2 way Comprehensive Plan  ...  Destination_UGANDA  \\\n",
       "0                                      0  ...                   0   \n",
       "1                                      0  ...                   0   \n",
       "2                                      0  ...                   0   \n",
       "3                                      1  ...                   0   \n",
       "4                                      0  ...                   0   \n",
       "\n",
       "   Destination_UKRAINE  Destination_UNITED ARAB EMIRATES  \\\n",
       "0                    0                                 0   \n",
       "1                    0                                 0   \n",
       "2                    0                                 0   \n",
       "3                    0                                 0   \n",
       "4                    0                                 0   \n",
       "\n",
       "   Destination_UNITED KINGDOM  Destination_UNITED STATES  \\\n",
       "0                           0                          0   \n",
       "1                           0                          0   \n",
       "2                           0                          0   \n",
       "3                           0                          0   \n",
       "4                           0                          0   \n",
       "\n",
       "   Destination_UZBEKISTAN  Destination_VANUATU  Destination_VENEZUELA  \\\n",
       "0                       0                    0                      0   \n",
       "1                       0                    0                      0   \n",
       "2                       0                    0                      0   \n",
       "3                       0                    0                      0   \n",
       "4                       0                    0                      0   \n",
       "\n",
       "   Destination_VIET NAM  Destination_ZAMBIA  \n",
       "0                     0                   0  \n",
       "1                     0                   0  \n",
       "2                     0                   0  \n",
       "3                     0                   0  \n",
       "4                     0                   0  \n",
       "\n",
       "[5 rows x 135 columns]"
      ]
     },
     "execution_count": 45,
     "metadata": {},
     "output_type": "execute_result"
    }
   ],
   "source": [
    "train_f.head()"
   ]
  },
  {
   "cell_type": "code",
   "execution_count": 46,
   "metadata": {},
   "outputs": [
    {
     "data": {
      "text/plain": [
       "Agency                                                 int64\n",
       "Agency Type                                            int64\n",
       "Distribution Channel                                   int64\n",
       "Claim                                                  int64\n",
       "Duration                                               int64\n",
       "Net Sales                                            float64\n",
       "Commision (in value)                                 float64\n",
       "Age                                                    int64\n",
       "Product Name_1 way Comprehensive Plan                  uint8\n",
       "Product Name_2 way Comprehensive Plan                  uint8\n",
       "Product Name_24 Protect                                uint8\n",
       "Product Name_Annual Gold Plan                          uint8\n",
       "Product Name_Annual Silver Plan                        uint8\n",
       "Product Name_Annual Travel Protect Gold                uint8\n",
       "Product Name_Annual Travel Protect Platinum            uint8\n",
       "Product Name_Annual Travel Protect Silver              uint8\n",
       "Product Name_Basic Plan                                uint8\n",
       "Product Name_Bronze Plan                               uint8\n",
       "Product Name_Cancellation Plan                         uint8\n",
       "Product Name_Child Comprehensive Plan                  uint8\n",
       "Product Name_Comprehensive Plan                        uint8\n",
       "Product Name_Gold Plan                                 uint8\n",
       "Product Name_Individual Comprehensive Plan             uint8\n",
       "Product Name_Premier Plan                              uint8\n",
       "Product Name_Rental Vehicle Excess Insurance           uint8\n",
       "Product Name_Silver Plan                               uint8\n",
       "Product Name_Single Trip Travel Protect Gold           uint8\n",
       "Product Name_Single Trip Travel Protect Platinum       uint8\n",
       "Product Name_Single Trip Travel Protect Silver         uint8\n",
       "Product Name_Spouse or Parents Comprehensive Plan      uint8\n",
       "                                                      ...   \n",
       "Destination_PHILIPPINES                                uint8\n",
       "Destination_POLAND                                     uint8\n",
       "Destination_PORTUGAL                                   uint8\n",
       "Destination_QATAR                                      uint8\n",
       "Destination_ROMANIA                                    uint8\n",
       "Destination_RUSSIAN FEDERATION                         uint8\n",
       "Destination_SAUDI ARABIA                               uint8\n",
       "Destination_SINGAPORE                                  uint8\n",
       "Destination_SLOVENIA                                   uint8\n",
       "Destination_SOUTH AFRICA                               uint8\n",
       "Destination_SPAIN                                      uint8\n",
       "Destination_SRI LANKA                                  uint8\n",
       "Destination_SWEDEN                                     uint8\n",
       "Destination_SWITZERLAND                                uint8\n",
       "Destination_TAIWAN, PROVINCE OF CHINA                  uint8\n",
       "Destination_TANZANIA, UNITED REPUBLIC OF               uint8\n",
       "Destination_THAILAND                                   uint8\n",
       "Destination_TUNISIA                                    uint8\n",
       "Destination_TURKEY                                     uint8\n",
       "Destination_TURKMENISTAN                               uint8\n",
       "Destination_UGANDA                                     uint8\n",
       "Destination_UKRAINE                                    uint8\n",
       "Destination_UNITED ARAB EMIRATES                       uint8\n",
       "Destination_UNITED KINGDOM                             uint8\n",
       "Destination_UNITED STATES                              uint8\n",
       "Destination_UZBEKISTAN                                 uint8\n",
       "Destination_VANUATU                                    uint8\n",
       "Destination_VENEZUELA                                  uint8\n",
       "Destination_VIET NAM                                   uint8\n",
       "Destination_ZAMBIA                                     uint8\n",
       "Length: 135, dtype: object"
      ]
     },
     "execution_count": 46,
     "metadata": {},
     "output_type": "execute_result"
    }
   ],
   "source": [
    "train_f.dtypes"
   ]
  },
  {
   "cell_type": "code",
   "execution_count": 47,
   "metadata": {},
   "outputs": [
    {
     "data": {
      "text/plain": [
       "0    49812\n",
       "1      741\n",
       "Name: Claim, dtype: int64"
      ]
     },
     "execution_count": 47,
     "metadata": {},
     "output_type": "execute_result"
    }
   ],
   "source": [
    "train_f[\"Claim\"].value_counts()"
   ]
  },
  {
   "cell_type": "markdown",
   "metadata": {},
   "source": [
    "Data is highly imbalanced so will do oversamling using smote"
   ]
  },
  {
   "cell_type": "code",
   "execution_count": 48,
   "metadata": {},
   "outputs": [],
   "source": [
    "X = train_f.drop([\"Claim\"],1)\n",
    "y = train_f[\"Claim\"]"
   ]
  },
  {
   "cell_type": "code",
   "execution_count": 49,
   "metadata": {},
   "outputs": [
    {
     "name": "stderr",
     "output_type": "stream",
     "text": [
      "Using TensorFlow backend.\n"
     ]
    }
   ],
   "source": [
    "\n",
    "from imblearn.over_sampling import SMOTE"
   ]
  },
  {
   "cell_type": "code",
   "execution_count": 50,
   "metadata": {},
   "outputs": [
    {
     "data": {
      "text/plain": [
       "<matplotlib.axes._subplots.AxesSubplot at 0x1a392ecb00>"
      ]
     },
     "execution_count": 50,
     "metadata": {},
     "output_type": "execute_result"
    },
    {
     "data": {
      "image/png": "[encoded data removed]",
      "text/plain": [
       "<Figure size 432x288 with 1 Axes>"
      ]
     },
     "metadata": {
      "needs_background": "light"
     },
     "output_type": "display_data"
    }
   ],
   "source": [
    "smote = SMOTE()\n",
    "X_sample,y_sample = smote.fit_sample(X,y)\n",
    "X_sample = pd.DataFrame(X_sample, columns=X.columns)\n",
    "sns.countplot(y_sample)"
   ]
  },
  {
   "cell_type": "code",
   "execution_count": 51,
   "metadata": {},
   "outputs": [],
   "source": [
    "from sklearn.model_selection import train_test_split as tts\n",
    "import numpy as np"
   ]
  },
  {
   "cell_type": "code",
   "execution_count": 52,
   "metadata": {},
   "outputs": [],
   "source": [
    "from sklearn.metrics import confusion_matrix, f1_score,  classification_report, recall_score, precision_score\n",
    "from sklearn.linear_model import LogisticRegression\n",
    "from sklearn import linear_model\n",
    "from sklearn.linear_model import Perceptron\n",
    "from sklearn.linear_model import SGDClassifier\n",
    "from sklearn.tree import DecisionTreeClassifier\n",
    "from sklearn.neighbors import KNeighborsClassifier\n",
    "from sklearn.svm import SVC, LinearSVC\n",
    "from sklearn.naive_bayes import GaussianNB\n",
    "from sklearn.ensemble import RandomForestClassifier"
   ]
  },
  {
   "cell_type": "code",
   "execution_count": null,
   "metadata": {},
   "outputs": [],
   "source": []
  },
  {
   "cell_type": "code",
   "execution_count": 54,
   "metadata": {},
   "outputs": [],
   "source": [
    "X_train,X_test,y_train,y_test = tts(X_sample,y_sample,random_state=42,test_size = 0.25)"
   ]
  },
  {
   "cell_type": "markdown",
   "metadata": {},
   "source": [
    "# Stochastic Gradient Descent (SGD):"
   ]
  },
  {
   "cell_type": "code",
   "execution_count": 55,
   "metadata": {},
   "outputs": [
    {
     "name": "stdout",
     "output_type": "stream",
     "text": [
      "0.712358467839075\n",
      "0.8300322061191626\n",
      "0.6710714750683505\n",
      "0.7421351954502916\n",
      "[[ 7433  5053]\n",
      " [ 2111 10309]]\n",
      "              precision    recall  f1-score   support\n",
      "\n",
      "           0       0.78      0.60      0.67     12486\n",
      "           1       0.67      0.83      0.74     12420\n",
      "\n",
      "    accuracy                           0.71     24906\n",
      "   macro avg       0.72      0.71      0.71     24906\n",
      "weighted avg       0.73      0.71      0.71     24906\n",
      "\n"
     ]
    }
   ],
   "source": [
    "sgd = linear_model.SGDClassifier(max_iter=5, tol=None)\n",
    "sgd.fit(X_train, y_train)\n",
    "y_pred = sgd.predict(X_test)\n",
    "sgd_score = sgd.score(X_train, y_train)\n",
    "accuracy_sgd = sgd.score(X_test,y_test)\n",
    "recall_sgd = recall_score(y_test,y_pred)\n",
    "precision_sgd = precision_score(y_test,y_pred)\n",
    "f1_sgd = f1_score(y_test,y_pred)\n",
    "confusion_mat_sgd = confusion_matrix(y_test,y_pred)\n",
    "class_repo_sgd = classification_report(y_test,y_pred)\n",
    "print(accuracy_sgd)\n",
    "print( recall_sgd)\n",
    "print(precision_sgd)\n",
    "print(f1_sgd)\n",
    "print(confusion_mat_sgd)\n",
    "print(class_repo_sgd)"
   ]
  },
  {
   "cell_type": "markdown",
   "metadata": {},
   "source": [
    "# Random Forest"
   ]
  },
  {
   "cell_type": "code",
   "execution_count": 56,
   "metadata": {},
   "outputs": [
    {
     "name": "stdout",
     "output_type": "stream",
     "text": [
      "0.9826146310126074\n",
      "0.9859098228663447\n",
      "0.9793649524114213\n",
      "0.9826264895879309\n",
      "[[12228   258]\n",
      " [  175 12245]]\n",
      "              precision    recall  f1-score   support\n",
      "\n",
      "           0       0.99      0.98      0.98     12486\n",
      "           1       0.98      0.99      0.98     12420\n",
      "\n",
      "    accuracy                           0.98     24906\n",
      "   macro avg       0.98      0.98      0.98     24906\n",
      "weighted avg       0.98      0.98      0.98     24906\n",
      "\n"
     ]
    }
   ],
   "source": [
    "rf = RandomForestClassifier(n_estimators=200)\n",
    "rf.fit(X_train,y_train)\n",
    "y_pred = rf.predict(X_test)\n",
    "accuracy_rf = rf.score(X_test,y_test)\n",
    "recall_rf = recall_score(y_test,y_pred)\n",
    "precision_rf = precision_score(y_test,y_pred)\n",
    "f1_rf = f1_score(y_test,y_pred)\n",
    "confusion_mat_rf = confusion_matrix(y_test,y_pred)\n",
    "class_repo_rf = classification_report(y_test,y_pred)\n",
    "print(accuracy_rf)\n",
    "print( recall_rf)\n",
    "print(precision_rf)\n",
    "print(f1_rf)\n",
    "print(confusion_mat_rf)\n",
    "print(class_repo_rf)"
   ]
  },
  {
   "cell_type": "markdown",
   "metadata": {},
   "source": [
    "# Logistic Regression:"
   ]
  },
  {
   "cell_type": "code",
   "execution_count": 57,
   "metadata": {},
   "outputs": [
    {
     "name": "stderr",
     "output_type": "stream",
     "text": [
      "//anaconda3/lib/python3.7/site-packages/sklearn/linear_model/logistic.py:432: FutureWarning: Default solver will be changed to 'lbfgs' in 0.22. Specify a solver to silence this warning.\n",
      "  FutureWarning)\n"
     ]
    },
    {
     "name": "stdout",
     "output_type": "stream",
     "text": [
      "0.7938649321448646\n",
      "0.7789855072463768\n",
      "0.8019728116710876\n",
      "0.7903120405162556\n",
      "[[10097  2389]\n",
      " [ 2745  9675]]\n",
      "              precision    recall  f1-score   support\n",
      "\n",
      "           0       0.79      0.81      0.80     12486\n",
      "           1       0.80      0.78      0.79     12420\n",
      "\n",
      "    accuracy                           0.79     24906\n",
      "   macro avg       0.79      0.79      0.79     24906\n",
      "weighted avg       0.79      0.79      0.79     24906\n",
      "\n"
     ]
    }
   ],
   "source": [
    "lr = LogisticRegression()\n",
    "lr.fit(X_train,y_train)\n",
    "y_pred = lr.predict(X_test)\n",
    "lr_score = lr.score(X_train, y_train)\n",
    "accuracy_lr = lr.score(X_test,y_test)\n",
    "recall_lr = recall_score(y_test,y_pred)\n",
    "precision_lr = precision_score(y_test,y_pred)\n",
    "f1_lr = f1_score(y_test,y_pred)\n",
    "confusion_mat_lr = confusion_matrix(y_test,y_pred)\n",
    "class_repo_lr = classification_report(y_test,y_pred)\n",
    "print(accuracy_lr)\n",
    "print( recall_lr)\n",
    "print(precision_lr)\n",
    "print(f1_lr)\n",
    "print(confusion_mat_lr)\n",
    "print(class_repo_lr)"
   ]
  },
  {
   "cell_type": "markdown",
   "metadata": {},
   "source": [
    "# K Nearest Neighbor:\n"
   ]
  },
  {
   "cell_type": "code",
   "execution_count": 58,
   "metadata": {},
   "outputs": [
    {
     "name": "stdout",
     "output_type": "stream",
     "text": [
      "0.9234722556813619\n",
      "0.9863123993558777\n",
      "0.8758758758758759\n",
      "0.9278194349768991\n",
      "[[10750  1736]\n",
      " [  170 12250]]\n",
      "              precision    recall  f1-score   support\n",
      "\n",
      "           0       0.98      0.86      0.92     12486\n",
      "           1       0.88      0.99      0.93     12420\n",
      "\n",
      "    accuracy                           0.92     24906\n",
      "   macro avg       0.93      0.92      0.92     24906\n",
      "weighted avg       0.93      0.92      0.92     24906\n",
      "\n"
     ]
    }
   ],
   "source": [
    "knn = KNeighborsClassifier()\n",
    "knn.fit(X_train,y_train)\n",
    "y_pred = knn.predict(X_test)\n",
    "accuracy_knn = knn.score(X_test,y_test)\n",
    "recall_knn = recall_score(y_test,y_pred)\n",
    "precision_knn = precision_score(y_test,y_pred)\n",
    "f1_knn = f1_score(y_test,y_pred)\n",
    "confusion_mat_knn = confusion_matrix(y_test,y_pred)\n",
    "class_repo_knn = classification_report(y_test,y_pred)\n",
    "print(accuracy_knn)\n",
    "print( recall_knn)\n",
    "print(precision_knn)\n",
    "print(f1_knn)\n",
    "print(confusion_mat_knn)\n",
    "print(class_repo_knn)"
   ]
  },
  {
   "cell_type": "markdown",
   "metadata": {},
   "source": [
    "# Gaussian Naive Bayes:"
   ]
  },
  {
   "cell_type": "code",
   "execution_count": 59,
   "metadata": {},
   "outputs": [
    {
     "name": "stdout",
     "output_type": "stream",
     "text": [
      "0.5535212398618806\n",
      "0.992109500805153\n",
      "0.5278444139821796\n",
      "0.6890728106475786\n",
      "[[ 1464 11022]\n",
      " [   98 12322]]\n",
      "              precision    recall  f1-score   support\n",
      "\n",
      "           0       0.94      0.12      0.21     12486\n",
      "           1       0.53      0.99      0.69     12420\n",
      "\n",
      "    accuracy                           0.55     24906\n",
      "   macro avg       0.73      0.55      0.45     24906\n",
      "weighted avg       0.73      0.55      0.45     24906\n",
      "\n"
     ]
    }
   ],
   "source": [
    "gnb = GaussianNB()\n",
    "gnb.fit(X_train,y_train)\n",
    "y_pred = gnb.predict(X_test)\n",
    "accuracy_gnb = gnb.score(X_test,y_test)\n",
    "recall_gnb = recall_score(y_test,y_pred)\n",
    "precision_gnb = precision_score(y_test,y_pred)\n",
    "f1_gnb = f1_score(y_test,y_pred)\n",
    "confusion_mat_gnb = confusion_matrix(y_test,y_pred)\n",
    "class_repo_gnb = classification_report(y_test,y_pred)\n",
    "print(accuracy_gnb)\n",
    "print( recall_gnb)\n",
    "print(precision_gnb)\n",
    "print(f1_gnb)\n",
    "print(confusion_mat_gnb)\n",
    "print(class_repo_gnb)"
   ]
  },
  {
   "cell_type": "markdown",
   "metadata": {},
   "source": [
    "# Perceptron:"
   ]
  },
  {
   "cell_type": "code",
   "execution_count": 60,
   "metadata": {},
   "outputs": [
    {
     "name": "stdout",
     "output_type": "stream",
     "text": [
      "0.7364891993897053\n",
      "0.6466988727858293\n",
      "0.7869109434701675\n",
      "0.7099482918637027\n",
      "[[10311  2175]\n",
      " [ 4388  8032]]\n",
      "              precision    recall  f1-score   support\n",
      "\n",
      "           0       0.70      0.83      0.76     12486\n",
      "           1       0.79      0.65      0.71     12420\n",
      "\n",
      "    accuracy                           0.74     24906\n",
      "   macro avg       0.74      0.74      0.73     24906\n",
      "weighted avg       0.74      0.74      0.73     24906\n",
      "\n"
     ]
    },
    {
     "name": "stderr",
     "output_type": "stream",
     "text": [
      "//anaconda3/lib/python3.7/site-packages/sklearn/linear_model/stochastic_gradient.py:561: ConvergenceWarning: Maximum number of iteration reached before convergence. Consider increasing max_iter to improve the fit.\n",
      "  ConvergenceWarning)\n"
     ]
    }
   ],
   "source": [
    "p = Perceptron(max_iter=5)\n",
    "p.fit(X_train,y_train)\n",
    "y_pred = p.predict(X_test)\n",
    "accuracy_p = p.score(X_test,y_test)\n",
    "recall_p = recall_score(y_test,y_pred)\n",
    "precision_p = precision_score(y_test,y_pred)\n",
    "f1_p = f1_score(y_test,y_pred)\n",
    "confusion_mat_p = confusion_matrix(y_test,y_pred)\n",
    "class_repo_p = classification_report(y_test,y_pred)\n",
    "print(accuracy_p)\n",
    "print( recall_p)\n",
    "print(precision_p)\n",
    "print(f1_p)\n",
    "print(confusion_mat_p)\n",
    "print(class_repo_p)"
   ]
  },
  {
   "cell_type": "markdown",
   "metadata": {},
   "source": [
    "# Linear Support Vector Machine:"
   ]
  },
  {
   "cell_type": "code",
   "execution_count": 61,
   "metadata": {},
   "outputs": [
    {
     "name": "stdout",
     "output_type": "stream",
     "text": [
      "0.7356058781016622\n",
      "0.6577294685990338\n",
      "0.7777777777777778\n",
      "0.7127339353487763\n",
      "[[10152  2334]\n",
      " [ 4251  8169]]\n",
      "              precision    recall  f1-score   support\n",
      "\n",
      "           0       0.70      0.81      0.76     12486\n",
      "           1       0.78      0.66      0.71     12420\n",
      "\n",
      "    accuracy                           0.74     24906\n",
      "   macro avg       0.74      0.74      0.73     24906\n",
      "weighted avg       0.74      0.74      0.73     24906\n",
      "\n"
     ]
    },
    {
     "name": "stderr",
     "output_type": "stream",
     "text": [
      "//anaconda3/lib/python3.7/site-packages/sklearn/svm/base.py:929: ConvergenceWarning: Liblinear failed to converge, increase the number of iterations.\n",
      "  \"the number of iterations.\", ConvergenceWarning)\n"
     ]
    }
   ],
   "source": [
    "svm = LinearSVC()\n",
    "svm.fit(X_train,y_train)\n",
    "y_pred = svm.predict(X_test)\n",
    "accuracy_svm = svm.score(X_test,y_test)\n",
    "recall_svm = recall_score(y_test,y_pred)\n",
    "precision_svm = precision_score(y_test,y_pred)\n",
    "f1_svm = f1_score(y_test,y_pred)\n",
    "confusion_mat_svm = confusion_matrix(y_test,y_pred)\n",
    "class_repo_svm = classification_report(y_test,y_pred)\n",
    "print(accuracy_svm)\n",
    "print( recall_svm)\n",
    "print(precision_svm)\n",
    "print(f1_svm)\n",
    "print(confusion_mat_svm)\n",
    "print(class_repo_svm)"
   ]
  },
  {
   "cell_type": "markdown",
   "metadata": {},
   "source": [
    "# Decision Tree"
   ]
  },
  {
   "cell_type": "code",
   "execution_count": 62,
   "metadata": {},
   "outputs": [
    {
     "name": "stdout",
     "output_type": "stream",
     "text": [
      "0.9747450413554967\n",
      "0.9818840579710145\n",
      "0.9679339630129375\n",
      "0.9748591070786203\n",
      "[[12082   404]\n",
      " [  225 12195]]\n",
      "              precision    recall  f1-score   support\n",
      "\n",
      "           0       0.98      0.97      0.97     12486\n",
      "           1       0.97      0.98      0.97     12420\n",
      "\n",
      "    accuracy                           0.97     24906\n",
      "   macro avg       0.97      0.97      0.97     24906\n",
      "weighted avg       0.97      0.97      0.97     24906\n",
      "\n"
     ]
    }
   ],
   "source": [
    "dt = DecisionTreeClassifier()\n",
    "dt.fit(X_train,y_train)\n",
    "y_pred = dt.predict(X_test)\n",
    "accuracy_dt = dt.score(X_test,y_test)\n",
    "recall_dt = recall_score(y_test,y_pred)\n",
    "precision_dt = precision_score(y_test,y_pred)\n",
    "f1_dt = f1_score(y_test,y_pred)\n",
    "confusion_mat_dt = confusion_matrix(y_test,y_pred)\n",
    "class_repo_dt = classification_report(y_test,y_pred)\n",
    "print(accuracy_dt)\n",
    "print( recall_dt)\n",
    "print(precision_dt)\n",
    "print(f1_dt)\n",
    "print(confusion_mat_dt)\n",
    "print(class_repo_dt)"
   ]
  },
  {
   "cell_type": "markdown",
   "metadata": {},
   "source": [
    "# XG Boost"
   ]
  },
  {
   "cell_type": "code",
   "execution_count": 64,
   "metadata": {},
   "outputs": [],
   "source": [
    "from xgboost import XGBClassifier\n",
    "from sklearn.ensemble import AdaBoostClassifier"
   ]
  },
  {
   "cell_type": "code",
   "execution_count": 65,
   "metadata": {},
   "outputs": [
    {
     "name": "stdout",
     "output_type": "stream",
     "text": [
      "0.9113868144222276\n",
      "0.9473429951690822\n",
      "0.8833996546287258\n",
      "0.914254633047127\n",
      "[[10933  1553]\n",
      " [  654 11766]]\n",
      "              precision    recall  f1-score   support\n",
      "\n",
      "           0       0.94      0.88      0.91     12486\n",
      "           1       0.88      0.95      0.91     12420\n",
      "\n",
      "    accuracy                           0.91     24906\n",
      "   macro avg       0.91      0.91      0.91     24906\n",
      "weighted avg       0.91      0.91      0.91     24906\n",
      "\n"
     ]
    }
   ],
   "source": [
    "xgb = XGBClassifier()\n",
    "xgb.fit(X_train, y_train)\n",
    "y_pred = xgb.predict(X_test)\n",
    "accuracy_xgb = xgb.score(X_test,y_test)\n",
    "recall_xgb = recall_score(y_test,y_pred)\n",
    "precision_xgb = precision_score(y_test,y_pred)\n",
    "f1_xgb = f1_score(y_test,y_pred)\n",
    "confusion_mat_xgb = confusion_matrix(y_test,y_pred)\n",
    "class_repo_xgb = classification_report(y_test,y_pred)\n",
    "print(accuracy_xgb)\n",
    "print( recall_xgb)\n",
    "print(precision_xgb)\n",
    "print(f1_xgb)\n",
    "print(confusion_mat_xgb)\n",
    "print(class_repo_xgb)"
   ]
  },
  {
   "cell_type": "markdown",
   "metadata": {},
   "source": [
    "# AdaBoost Classifier"
   ]
  },
  {
   "cell_type": "code",
   "execution_count": 68,
   "metadata": {},
   "outputs": [
    {
     "name": "stdout",
     "output_type": "stream",
     "text": [
      "0.8881795551272785\n",
      "0.9109500805152979\n",
      "0.8707765720003079\n",
      "0.8904104198638492\n",
      "[[10807  1679]\n",
      " [ 1106 11314]]\n",
      "              precision    recall  f1-score   support\n",
      "\n",
      "           0       0.91      0.87      0.89     12486\n",
      "           1       0.87      0.91      0.89     12420\n",
      "\n",
      "    accuracy                           0.89     24906\n",
      "   macro avg       0.89      0.89      0.89     24906\n",
      "weighted avg       0.89      0.89      0.89     24906\n",
      "\n"
     ]
    }
   ],
   "source": [
    "adb = AdaBoostClassifier()\n",
    "adb.fit(X_train,y_train)\n",
    "y_pred = adb.predict(X_test)\n",
    "accuracy_adb = adb.score(X_test,y_test)\n",
    "recall_adb = recall_score(y_test,y_pred)\n",
    "precision_adb = precision_score(y_test,y_pred)\n",
    "f1_adb = f1_score(y_test,y_pred)\n",
    "confusion_mat_adb = confusion_matrix(y_test,y_pred)\n",
    "class_repo_adb = classification_report(y_test,y_pred)\n",
    "print(accuracy_adb)\n",
    "print( recall_adb)\n",
    "print(precision_adb)\n",
    "print(f1_adb)\n",
    "print(confusion_mat_adb)\n",
    "print(class_repo_adb)\n"
   ]
  },
  {
   "cell_type": "markdown",
   "metadata": {},
   "source": [
    "# Which is the best Model ?"
   ]
  },
  {
   "cell_type": "code",
   "execution_count": 69,
   "metadata": {},
   "outputs": [
    {
     "data": {
      "text/html": [
       "<div>\n",
       "<style scoped>\n",
       "    .dataframe tbody tr th:only-of-type {\n",
       "        vertical-align: middle;\n",
       "    }\n",
       "\n",
       "    .dataframe tbody tr th {\n",
       "        vertical-align: top;\n",
       "    }\n",
       "\n",
       "    .dataframe thead th {\n",
       "        text-align: right;\n",
       "    }\n",
       "</style>\n",
       "<table border=\"1\" class=\"dataframe\">\n",
       "  <thead>\n",
       "    <tr style=\"text-align: right;\">\n",
       "      <th></th>\n",
       "      <th>Model</th>\n",
       "    </tr>\n",
       "    <tr>\n",
       "      <th>Score</th>\n",
       "      <th></th>\n",
       "    </tr>\n",
       "  </thead>\n",
       "  <tbody>\n",
       "    <tr>\n",
       "      <th>0.979365</th>\n",
       "      <td>Random Forest</td>\n",
       "    </tr>\n",
       "    <tr>\n",
       "      <th>0.967934</th>\n",
       "      <td>Decision Tree</td>\n",
       "    </tr>\n",
       "    <tr>\n",
       "      <th>0.883400</th>\n",
       "      <td>XGBoost</td>\n",
       "    </tr>\n",
       "    <tr>\n",
       "      <th>0.875876</th>\n",
       "      <td>KNN</td>\n",
       "    </tr>\n",
       "    <tr>\n",
       "      <th>0.870777</th>\n",
       "      <td>AdaBoost</td>\n",
       "    </tr>\n",
       "    <tr>\n",
       "      <th>0.801973</th>\n",
       "      <td>Logistic Regression</td>\n",
       "    </tr>\n",
       "    <tr>\n",
       "      <th>0.786911</th>\n",
       "      <td>Perceptron</td>\n",
       "    </tr>\n",
       "    <tr>\n",
       "      <th>0.777778</th>\n",
       "      <td>Support Vector Machines</td>\n",
       "    </tr>\n",
       "    <tr>\n",
       "      <th>0.671071</th>\n",
       "      <td>Stochastic Gradient Decent</td>\n",
       "    </tr>\n",
       "    <tr>\n",
       "      <th>0.527844</th>\n",
       "      <td>Naive Bayes</td>\n",
       "    </tr>\n",
       "  </tbody>\n",
       "</table>\n",
       "</div>"
      ],
      "text/plain": [
       "                               Model\n",
       "Score                               \n",
       "0.979365               Random Forest\n",
       "0.967934               Decision Tree\n",
       "0.883400                     XGBoost\n",
       "0.875876                         KNN\n",
       "0.870777                    AdaBoost\n",
       "0.801973         Logistic Regression\n",
       "0.786911                  Perceptron\n",
       "0.777778     Support Vector Machines\n",
       "0.671071  Stochastic Gradient Decent\n",
       "0.527844                 Naive Bayes"
      ]
     },
     "execution_count": 69,
     "metadata": {},
     "output_type": "execute_result"
    }
   ],
   "source": [
    "acc_df = pd.DataFrame({\n",
    "    'Model': ['Support Vector Machines', 'KNN', 'Logistic Regression', \n",
    "              'Random Forest', 'Naive Bayes', 'Perceptron', \n",
    "              'Stochastic Gradient Decent', \n",
    "              'Decision Tree',\"XGBoost\",\"AdaBoost\"],\n",
    "    'Score': [precision_svm, precision_knn, precision_lr, \n",
    "              precision_rf, precision_gnb, precision_p, \n",
    "              precision_sgd, precision_dt,precision_xgb,precision_adb]})\n",
    "acc_df = acc_df.sort_values(by='Score', ascending=False)\n",
    "acc_df = acc_df.set_index('Score')\n",
    "acc_df"
   ]
  },
  {
   "cell_type": "markdown",
   "metadata": {},
   "source": [
    "# Converting all predictions into csv files "
   ]
  },
  {
   "cell_type": "code",
   "execution_count": 76,
   "metadata": {},
   "outputs": [],
   "source": [
    "pred_rf = rf.predict(test_f)\n",
    "result = pd.DataFrame(dict(zip(test_df[\"ID\"],pred_rf)).items(), columns = [\"ID\", \"Claim\"])\n",
    "result.to_csv(\"/Users/akankshamishra/Desktop/test_submission_new/result_rf.csv\", index= False)"
   ]
  },
  {
   "cell_type": "code",
   "execution_count": 77,
   "metadata": {},
   "outputs": [],
   "source": [
    "pred_knn = knn.predict(test_f)\n",
    "result = pd.DataFrame(dict(zip(test_df[\"ID\"],pred_knn)).items(), columns = [\"ID\", \"Claim\"])\n",
    "result.to_csv(\"/Users/akankshamishra/Desktop/test_submission_new/result_knn.csv\", index= False)"
   ]
  },
  {
   "cell_type": "code",
   "execution_count": 86,
   "metadata": {},
   "outputs": [],
   "source": [
    "pred_dt = dt.predict(test_f)\n",
    "result = pd.DataFrame(dict(zip(test_df[\"ID\"],pred_dt)).items(), columns = [\"ID\", \"Claim\"])\n",
    "result.to_csv(\"/Users/akankshamishra/Desktop/test_submission_new/result_dt.csv\", index= False)"
   ]
  },
  {
   "cell_type": "code",
   "execution_count": 79,
   "metadata": {},
   "outputs": [],
   "source": [
    "pred_xgb = xgb.predict(test_f)\n",
    "result = pd.DataFrame(dict(zip(test_df[\"ID\"],pred_xgb)).items(), columns = [\"ID\", \"Claim\"])\n",
    "result.to_csv(\"/Users/akankshamishra/Desktop/test_submission_new/result_xgb.csv\", index= False)"
   ]
  },
  {
   "cell_type": "code",
   "execution_count": 80,
   "metadata": {},
   "outputs": [],
   "source": [
    "pred_adb = adb.predict(test_f)\n",
    "result = pd.DataFrame(dict(zip(test_df[\"ID\"],pred_adb)).items(), columns = [\"ID\", \"Claim\"])\n",
    "result.to_csv(\"/Users/akankshamishra/Desktop/test_submission_new/result_adb.csv\", index= False)"
   ]
  },
  {
   "cell_type": "code",
   "execution_count": 81,
   "metadata": {},
   "outputs": [],
   "source": [
    "pred_lr = lr.predict(test_f)\n",
    "result = pd.DataFrame(dict(zip(test_df[\"ID\"],pred_lr)).items(), columns = [\"ID\", \"Claim\"])\n",
    "result.to_csv(\"/Users/akankshamishra/Desktop/test_submission_new/result_lr.csv\", index= False)"
   ]
  },
  {
   "cell_type": "code",
   "execution_count": 82,
   "metadata": {},
   "outputs": [],
   "source": [
    "pred_p = p.predict(test_f)\n",
    "result = pd.DataFrame(dict(zip(test_df[\"ID\"],pred_p)).items(), columns = [\"ID\", \"Claim\"])\n",
    "result.to_csv(\"/Users/akankshamishra/Desktop/test_submission_new/result_p.csv\", index= False)"
   ]
  },
  {
   "cell_type": "code",
   "execution_count": 83,
   "metadata": {},
   "outputs": [],
   "source": [
    "pred_svm = svm.predict(test_f)\n",
    "result = pd.DataFrame(dict(zip(test_df[\"ID\"],pred_svm)).items(), columns = [\"ID\", \"Claim\"])\n",
    "result.to_csv(\"/Users/akankshamishra/Desktop/test_submission_new/result_svm.csv\", index= False)"
   ]
  },
  {
   "cell_type": "code",
   "execution_count": 84,
   "metadata": {},
   "outputs": [],
   "source": [
    "pred_sgd = sgd.predict(test_f)\n",
    "result = pd.DataFrame(dict(zip(test_df[\"ID\"],pred_sgd)).items(), columns = [\"ID\", \"Claim\"])\n",
    "result.to_csv(\"/Users/akankshamishra/Desktop/test_submission_new/result_sgd.csv\", index= False)"
   ]
  },
  {
   "cell_type": "code",
   "execution_count": 85,
   "metadata": {},
   "outputs": [],
   "source": [
    "pred_gnb = gnb.predict(test_f)\n",
    "result = pd.DataFrame(dict(zip(test_df[\"ID\"],pred_gnb)).items(), columns = [\"ID\", \"Claim\"])\n",
    "result.to_csv(\"/Users/akankshamishra/Desktop/test_submission_new/result_gnb.csv\", index= False)"
   ]
  },
  {
   "cell_type": "markdown",
   "metadata": {},
   "source": [
    "now let's see how my acuuracy changes after doing some feature selection"
   ]
  },
  {
   "cell_type": "markdown",
   "metadata": {},
   "source": [
    "# Feature selection by Random forest algorithm"
   ]
  },
  {
   "cell_type": "code",
   "execution_count": 87,
   "metadata": {},
   "outputs": [
    {
     "data": {
      "text/html": [
       "<div>\n",
       "<style scoped>\n",
       "    .dataframe tbody tr th:only-of-type {\n",
       "        vertical-align: middle;\n",
       "    }\n",
       "\n",
       "    .dataframe tbody tr th {\n",
       "        vertical-align: top;\n",
       "    }\n",
       "\n",
       "    .dataframe thead th {\n",
       "        text-align: right;\n",
       "    }\n",
       "</style>\n",
       "<table border=\"1\" class=\"dataframe\">\n",
       "  <thead>\n",
       "    <tr style=\"text-align: right;\">\n",
       "      <th></th>\n",
       "      <th>feature</th>\n",
       "      <th>importance</th>\n",
       "    </tr>\n",
       "  </thead>\n",
       "  <tbody>\n",
       "    <tr>\n",
       "      <th>4</th>\n",
       "      <td>Net Sales</td>\n",
       "      <td>9.582321e-02</td>\n",
       "    </tr>\n",
       "    <tr>\n",
       "      <th>3</th>\n",
       "      <td>Duration</td>\n",
       "      <td>8.955124e-02</td>\n",
       "    </tr>\n",
       "    <tr>\n",
       "      <th>6</th>\n",
       "      <td>Age</td>\n",
       "      <td>8.346059e-02</td>\n",
       "    </tr>\n",
       "    <tr>\n",
       "      <th>0</th>\n",
       "      <td>Agency</td>\n",
       "      <td>8.338651e-02</td>\n",
       "    </tr>\n",
       "    <tr>\n",
       "      <th>5</th>\n",
       "      <td>Commision (in value)</td>\n",
       "      <td>8.189541e-02</td>\n",
       "    </tr>\n",
       "    <tr>\n",
       "      <th>111</th>\n",
       "      <td>Destination_SINGAPORE</td>\n",
       "      <td>7.088717e-02</td>\n",
       "    </tr>\n",
       "    <tr>\n",
       "      <th>17</th>\n",
       "      <td>Product Name_Cancellation Plan</td>\n",
       "      <td>6.316857e-02</td>\n",
       "    </tr>\n",
       "    <tr>\n",
       "      <th>1</th>\n",
       "      <td>Agency Type</td>\n",
       "      <td>5.103239e-02</td>\n",
       "    </tr>\n",
       "    <tr>\n",
       "      <th>16</th>\n",
       "      <td>Product Name_Bronze Plan</td>\n",
       "      <td>3.250572e-02</td>\n",
       "    </tr>\n",
       "    <tr>\n",
       "      <th>8</th>\n",
       "      <td>Product Name_2 way Comprehensive Plan</td>\n",
       "      <td>3.012340e-02</td>\n",
       "    </tr>\n",
       "    <tr>\n",
       "      <th>24</th>\n",
       "      <td>Product Name_Silver Plan</td>\n",
       "      <td>2.683766e-02</td>\n",
       "    </tr>\n",
       "    <tr>\n",
       "      <th>49</th>\n",
       "      <td>Destination_CHINA</td>\n",
       "      <td>2.556598e-02</td>\n",
       "    </tr>\n",
       "    <tr>\n",
       "      <th>120</th>\n",
       "      <td>Destination_THAILAND</td>\n",
       "      <td>2.425259e-02</td>\n",
       "    </tr>\n",
       "    <tr>\n",
       "      <th>15</th>\n",
       "      <td>Product Name_Basic Plan</td>\n",
       "      <td>1.882022e-02</td>\n",
       "    </tr>\n",
       "    <tr>\n",
       "      <th>88</th>\n",
       "      <td>Destination_MALAYSIA</td>\n",
       "      <td>1.652945e-02</td>\n",
       "    </tr>\n",
       "    <tr>\n",
       "      <th>33</th>\n",
       "      <td>Destination_AUSTRALIA</td>\n",
       "      <td>1.484346e-02</td>\n",
       "    </tr>\n",
       "    <tr>\n",
       "      <th>23</th>\n",
       "      <td>Product Name_Rental Vehicle Excess Insurance</td>\n",
       "      <td>1.307163e-02</td>\n",
       "    </tr>\n",
       "    <tr>\n",
       "      <th>66</th>\n",
       "      <td>Destination_HONG KONG</td>\n",
       "      <td>1.290040e-02</td>\n",
       "    </tr>\n",
       "    <tr>\n",
       "      <th>11</th>\n",
       "      <td>Product Name_Annual Silver Plan</td>\n",
       "      <td>1.166958e-02</td>\n",
       "    </tr>\n",
       "    <tr>\n",
       "      <th>128</th>\n",
       "      <td>Destination_UNITED STATES</td>\n",
       "      <td>1.162922e-02</td>\n",
       "    </tr>\n",
       "    <tr>\n",
       "      <th>7</th>\n",
       "      <td>Product Name_1 way Comprehensive Plan</td>\n",
       "      <td>1.029462e-02</td>\n",
       "    </tr>\n",
       "    <tr>\n",
       "      <th>31</th>\n",
       "      <td>Product Name_Value Plan</td>\n",
       "      <td>9.059459e-03</td>\n",
       "    </tr>\n",
       "    <tr>\n",
       "      <th>70</th>\n",
       "      <td>Destination_INDONESIA</td>\n",
       "      <td>8.624276e-03</td>\n",
       "    </tr>\n",
       "    <tr>\n",
       "      <th>74</th>\n",
       "      <td>Destination_ITALY</td>\n",
       "      <td>8.423421e-03</td>\n",
       "    </tr>\n",
       "    <tr>\n",
       "      <th>127</th>\n",
       "      <td>Destination_UNITED KINGDOM</td>\n",
       "      <td>7.984931e-03</td>\n",
       "    </tr>\n",
       "    <tr>\n",
       "      <th>104</th>\n",
       "      <td>Destination_PHILIPPINES</td>\n",
       "      <td>7.040525e-03</td>\n",
       "    </tr>\n",
       "    <tr>\n",
       "      <th>79</th>\n",
       "      <td>Destination_KOREA, REPUBLIC OF</td>\n",
       "      <td>6.808756e-03</td>\n",
       "    </tr>\n",
       "    <tr>\n",
       "      <th>132</th>\n",
       "      <td>Destination_VIET NAM</td>\n",
       "      <td>6.418938e-03</td>\n",
       "    </tr>\n",
       "    <tr>\n",
       "      <th>75</th>\n",
       "      <td>Destination_JAPAN</td>\n",
       "      <td>5.854548e-03</td>\n",
       "    </tr>\n",
       "    <tr>\n",
       "      <th>25</th>\n",
       "      <td>Product Name_Single Trip Travel Protect Gold</td>\n",
       "      <td>4.425558e-03</td>\n",
       "    </tr>\n",
       "    <tr>\n",
       "      <th>...</th>\n",
       "      <td>...</td>\n",
       "      <td>...</td>\n",
       "    </tr>\n",
       "    <tr>\n",
       "      <th>51</th>\n",
       "      <td>Destination_COSTA RICA</td>\n",
       "      <td>2.252700e-06</td>\n",
       "    </tr>\n",
       "    <tr>\n",
       "      <th>91</th>\n",
       "      <td>Destination_MAURITIUS</td>\n",
       "      <td>2.004700e-06</td>\n",
       "    </tr>\n",
       "    <tr>\n",
       "      <th>124</th>\n",
       "      <td>Destination_UGANDA</td>\n",
       "      <td>1.823400e-06</td>\n",
       "    </tr>\n",
       "    <tr>\n",
       "      <th>86</th>\n",
       "      <td>Destination_LUXEMBOURG</td>\n",
       "      <td>1.780500e-06</td>\n",
       "    </tr>\n",
       "    <tr>\n",
       "      <th>41</th>\n",
       "      <td>Destination_BHUTAN</td>\n",
       "      <td>1.761300e-06</td>\n",
       "    </tr>\n",
       "    <tr>\n",
       "      <th>85</th>\n",
       "      <td>Destination_LITHUANIA</td>\n",
       "      <td>1.715700e-06</td>\n",
       "    </tr>\n",
       "    <tr>\n",
       "      <th>81</th>\n",
       "      <td>Destination_KYRGYZSTAN</td>\n",
       "      <td>1.524200e-06</td>\n",
       "    </tr>\n",
       "    <tr>\n",
       "      <th>57</th>\n",
       "      <td>Destination_ESTONIA</td>\n",
       "      <td>1.365000e-06</td>\n",
       "    </tr>\n",
       "    <tr>\n",
       "      <th>125</th>\n",
       "      <td>Destination_UKRAINE</td>\n",
       "      <td>1.117800e-06</td>\n",
       "    </tr>\n",
       "    <tr>\n",
       "      <th>80</th>\n",
       "      <td>Destination_KUWAIT</td>\n",
       "      <td>1.110000e-06</td>\n",
       "    </tr>\n",
       "    <tr>\n",
       "      <th>121</th>\n",
       "      <td>Destination_TUNISIA</td>\n",
       "      <td>1.008600e-06</td>\n",
       "    </tr>\n",
       "    <tr>\n",
       "      <th>50</th>\n",
       "      <td>Destination_COLOMBIA</td>\n",
       "      <td>9.097000e-07</td>\n",
       "    </tr>\n",
       "    <tr>\n",
       "      <th>42</th>\n",
       "      <td>Destination_BOLIVIA</td>\n",
       "      <td>8.110000e-07</td>\n",
       "    </tr>\n",
       "    <tr>\n",
       "      <th>35</th>\n",
       "      <td>Destination_AZERBAIJAN</td>\n",
       "      <td>7.695000e-07</td>\n",
       "    </tr>\n",
       "    <tr>\n",
       "      <th>129</th>\n",
       "      <td>Destination_UZBEKISTAN</td>\n",
       "      <td>7.316000e-07</td>\n",
       "    </tr>\n",
       "    <tr>\n",
       "      <th>90</th>\n",
       "      <td>Destination_MALTA</td>\n",
       "      <td>6.945000e-07</td>\n",
       "    </tr>\n",
       "    <tr>\n",
       "      <th>62</th>\n",
       "      <td>Destination_GEORGIA</td>\n",
       "      <td>5.991000e-07</td>\n",
       "    </tr>\n",
       "    <tr>\n",
       "      <th>84</th>\n",
       "      <td>Destination_LEBANON</td>\n",
       "      <td>5.921000e-07</td>\n",
       "    </tr>\n",
       "    <tr>\n",
       "      <th>83</th>\n",
       "      <td>Destination_LATVIA</td>\n",
       "      <td>5.590000e-07</td>\n",
       "    </tr>\n",
       "    <tr>\n",
       "      <th>99</th>\n",
       "      <td>Destination_NORTHERN MARIANA ISLANDS</td>\n",
       "      <td>4.997000e-07</td>\n",
       "    </tr>\n",
       "    <tr>\n",
       "      <th>40</th>\n",
       "      <td>Destination_BERMUDA</td>\n",
       "      <td>4.750000e-07</td>\n",
       "    </tr>\n",
       "    <tr>\n",
       "      <th>71</th>\n",
       "      <td>Destination_IRAN, ISLAMIC REPUBLIC OF</td>\n",
       "      <td>3.988000e-07</td>\n",
       "    </tr>\n",
       "    <tr>\n",
       "      <th>47</th>\n",
       "      <td>Destination_CAYMAN ISLANDS</td>\n",
       "      <td>3.423000e-07</td>\n",
       "    </tr>\n",
       "    <tr>\n",
       "      <th>77</th>\n",
       "      <td>Destination_KAZAKHSTAN</td>\n",
       "      <td>1.746000e-07</td>\n",
       "    </tr>\n",
       "    <tr>\n",
       "      <th>133</th>\n",
       "      <td>Destination_ZAMBIA</td>\n",
       "      <td>1.656000e-07</td>\n",
       "    </tr>\n",
       "    <tr>\n",
       "      <th>48</th>\n",
       "      <td>Destination_CHILE</td>\n",
       "      <td>7.500000e-08</td>\n",
       "    </tr>\n",
       "    <tr>\n",
       "      <th>130</th>\n",
       "      <td>Destination_VANUATU</td>\n",
       "      <td>2.800000e-09</td>\n",
       "    </tr>\n",
       "    <tr>\n",
       "      <th>131</th>\n",
       "      <td>Destination_VENEZUELA</td>\n",
       "      <td>3.000000e-10</td>\n",
       "    </tr>\n",
       "    <tr>\n",
       "      <th>123</th>\n",
       "      <td>Destination_TURKMENISTAN</td>\n",
       "      <td>1.000000e-10</td>\n",
       "    </tr>\n",
       "    <tr>\n",
       "      <th>58</th>\n",
       "      <td>Destination_ETHIOPIA</td>\n",
       "      <td>1.000000e-10</td>\n",
       "    </tr>\n",
       "  </tbody>\n",
       "</table>\n",
       "<p>134 rows × 2 columns</p>\n",
       "</div>"
      ],
      "text/plain": [
       "                                          feature    importance\n",
       "4                                       Net Sales  9.582321e-02\n",
       "3                                        Duration  8.955124e-02\n",
       "6                                             Age  8.346059e-02\n",
       "0                                          Agency  8.338651e-02\n",
       "5                            Commision (in value)  8.189541e-02\n",
       "111                         Destination_SINGAPORE  7.088717e-02\n",
       "17                 Product Name_Cancellation Plan  6.316857e-02\n",
       "1                                     Agency Type  5.103239e-02\n",
       "16                       Product Name_Bronze Plan  3.250572e-02\n",
       "8           Product Name_2 way Comprehensive Plan  3.012340e-02\n",
       "24                       Product Name_Silver Plan  2.683766e-02\n",
       "49                              Destination_CHINA  2.556598e-02\n",
       "120                          Destination_THAILAND  2.425259e-02\n",
       "15                        Product Name_Basic Plan  1.882022e-02\n",
       "88                           Destination_MALAYSIA  1.652945e-02\n",
       "33                          Destination_AUSTRALIA  1.484346e-02\n",
       "23   Product Name_Rental Vehicle Excess Insurance  1.307163e-02\n",
       "66                          Destination_HONG KONG  1.290040e-02\n",
       "11                Product Name_Annual Silver Plan  1.166958e-02\n",
       "128                     Destination_UNITED STATES  1.162922e-02\n",
       "7           Product Name_1 way Comprehensive Plan  1.029462e-02\n",
       "31                        Product Name_Value Plan  9.059459e-03\n",
       "70                          Destination_INDONESIA  8.624276e-03\n",
       "74                              Destination_ITALY  8.423421e-03\n",
       "127                    Destination_UNITED KINGDOM  7.984931e-03\n",
       "104                       Destination_PHILIPPINES  7.040525e-03\n",
       "79                 Destination_KOREA, REPUBLIC OF  6.808756e-03\n",
       "132                          Destination_VIET NAM  6.418938e-03\n",
       "75                              Destination_JAPAN  5.854548e-03\n",
       "25   Product Name_Single Trip Travel Protect Gold  4.425558e-03\n",
       "..                                            ...           ...\n",
       "51                         Destination_COSTA RICA  2.252700e-06\n",
       "91                          Destination_MAURITIUS  2.004700e-06\n",
       "124                            Destination_UGANDA  1.823400e-06\n",
       "86                         Destination_LUXEMBOURG  1.780500e-06\n",
       "41                             Destination_BHUTAN  1.761300e-06\n",
       "85                          Destination_LITHUANIA  1.715700e-06\n",
       "81                         Destination_KYRGYZSTAN  1.524200e-06\n",
       "57                            Destination_ESTONIA  1.365000e-06\n",
       "125                           Destination_UKRAINE  1.117800e-06\n",
       "80                             Destination_KUWAIT  1.110000e-06\n",
       "121                           Destination_TUNISIA  1.008600e-06\n",
       "50                           Destination_COLOMBIA  9.097000e-07\n",
       "42                            Destination_BOLIVIA  8.110000e-07\n",
       "35                         Destination_AZERBAIJAN  7.695000e-07\n",
       "129                        Destination_UZBEKISTAN  7.316000e-07\n",
       "90                              Destination_MALTA  6.945000e-07\n",
       "62                            Destination_GEORGIA  5.991000e-07\n",
       "84                            Destination_LEBANON  5.921000e-07\n",
       "83                             Destination_LATVIA  5.590000e-07\n",
       "99           Destination_NORTHERN MARIANA ISLANDS  4.997000e-07\n",
       "40                            Destination_BERMUDA  4.750000e-07\n",
       "71          Destination_IRAN, ISLAMIC REPUBLIC OF  3.988000e-07\n",
       "47                     Destination_CAYMAN ISLANDS  3.423000e-07\n",
       "77                         Destination_KAZAKHSTAN  1.746000e-07\n",
       "133                            Destination_ZAMBIA  1.656000e-07\n",
       "48                              Destination_CHILE  7.500000e-08\n",
       "130                           Destination_VANUATU  2.800000e-09\n",
       "131                         Destination_VENEZUELA  3.000000e-10\n",
       "123                      Destination_TURKMENISTAN  1.000000e-10\n",
       "58                           Destination_ETHIOPIA  1.000000e-10\n",
       "\n",
       "[134 rows x 2 columns]"
      ]
     },
     "execution_count": 87,
     "metadata": {},
     "output_type": "execute_result"
    }
   ],
   "source": [
    "rf = RandomForestClassifier(n_estimators=200)\n",
    "rf.fit(X_train,y_train)\n",
    "importances = pd.DataFrame({'feature':train_f.drop([\"Claim\"],1).columns,'importance':np.round(rf.feature_importances_,10)})\n",
    "importances = importances.sort_values('importance',ascending=False)\n",
    "importances"
   ]
  },
  {
   "cell_type": "code",
   "execution_count": 88,
   "metadata": {},
   "outputs": [],
   "source": [
    "#taking top 100 features\n",
    "rel_cols = list(importances.iloc[0:100,0])"
   ]
  },
  {
   "cell_type": "code",
   "execution_count": 91,
   "metadata": {},
   "outputs": [],
   "source": [
    "X_new = X[rel_cols]\n",
    "rel_test = test_f[rel_cols]"
   ]
  },
  {
   "cell_type": "code",
   "execution_count": 93,
   "metadata": {},
   "outputs": [
    {
     "data": {
      "text/plain": [
       "<matplotlib.axes._subplots.AxesSubplot at 0x1a3a2f5048>"
      ]
     },
     "execution_count": 93,
     "metadata": {},
     "output_type": "execute_result"
    },
    {
     "data": {
      "image/png": "[encoded data removed]",
      "text/plain": [
       "<Figure size 432x288 with 1 Axes>"
      ]
     },
     "metadata": {
      "needs_background": "light"
     },
     "output_type": "display_data"
    }
   ],
   "source": [
    "smote = SMOTE()\n",
    "X_sample_n,y_sample_n = smote.fit_sample(X_new,y)\n",
    "X_sample_n = pd.DataFrame(X_sample_n, columns=X_new.columns)\n",
    "sns.countplot(y_sample_n)"
   ]
  },
  {
   "cell_type": "code",
   "execution_count": 94,
   "metadata": {},
   "outputs": [],
   "source": [
    "X_train,X_test,y_train,y_test = tts(X_sample_n, y_sample_n , random_state=42,test_size = 0.25)"
   ]
  },
  {
   "cell_type": "code",
   "execution_count": 101,
   "metadata": {},
   "outputs": [
    {
     "name": "stdout",
     "output_type": "stream",
     "text": [
      "0.6186862603388742\n",
      "0.980354267310789\n",
      "0.5682019692939475\n",
      "0.7194304115335757\n",
      "[[ 3233  9253]\n",
      " [  244 12176]]\n",
      "              precision    recall  f1-score   support\n",
      "\n",
      "           0       0.93      0.26      0.41     12486\n",
      "           1       0.57      0.98      0.72     12420\n",
      "\n",
      "    accuracy                           0.62     24906\n",
      "   macro avg       0.75      0.62      0.56     24906\n",
      "weighted avg       0.75      0.62      0.56     24906\n",
      "\n"
     ]
    }
   ],
   "source": [
    "sgd = linear_model.SGDClassifier(max_iter=5, tol=None)\n",
    "sgd.fit(X_train, y_train)\n",
    "y_pred = sgd.predict(X_test)\n",
    "sgd_score = sgd.score(X_train, y_train)\n",
    "accuracy_sgd_1 = sgd.score(X_test,y_test)\n",
    "recall_sgd = recall_score(y_test,y_pred)\n",
    "precision_sgd_1 = precision_score(y_test,y_pred)\n",
    "f1_sgd = f1_score(y_test,y_pred)\n",
    "confusion_mat_sgd = confusion_matrix(y_test,y_pred)\n",
    "class_repo_sgd = classification_report(y_test,y_pred)\n",
    "print(accuracy_sgd_1)\n",
    "print( recall_sgd)\n",
    "print(precision_sgd_1)\n",
    "print(f1_sgd)\n",
    "print(confusion_mat_sgd)\n",
    "print(class_repo_sgd)"
   ]
  },
  {
   "cell_type": "code",
   "execution_count": 102,
   "metadata": {},
   "outputs": [
    {
     "name": "stdout",
     "output_type": "stream",
     "text": [
      "0.9832971974624588\n",
      "0.987037037037037\n",
      "0.9796228224388684\n",
      "0.9833159541188738\n",
      "[[12231   255]\n",
      " [  161 12259]]\n",
      "              precision    recall  f1-score   support\n",
      "\n",
      "           0       0.99      0.98      0.98     12486\n",
      "           1       0.98      0.99      0.98     12420\n",
      "\n",
      "    accuracy                           0.98     24906\n",
      "   macro avg       0.98      0.98      0.98     24906\n",
      "weighted avg       0.98      0.98      0.98     24906\n",
      "\n"
     ]
    }
   ],
   "source": [
    "rf = RandomForestClassifier(n_estimators=200)\n",
    "rf.fit(X_train,y_train)\n",
    "y_pred = rf.predict(X_test)\n",
    "accuracy_rf_1 = rf.score(X_test,y_test)\n",
    "recall_rf = recall_score(y_test,y_pred)\n",
    "precision_rf_1 = precision_score(y_test,y_pred)\n",
    "f1_rf = f1_score(y_test,y_pred)\n",
    "confusion_mat_rf = confusion_matrix(y_test,y_pred)\n",
    "class_repo_rf = classification_report(y_test,y_pred)\n",
    "print(accuracy_rf_1)\n",
    "print( recall_rf)\n",
    "print(precision_rf_1)\n",
    "print(f1_rf)\n",
    "print(confusion_mat_rf)\n",
    "print(class_repo_rf)"
   ]
  },
  {
   "cell_type": "code",
   "execution_count": 103,
   "metadata": {},
   "outputs": [
    {
     "name": "stderr",
     "output_type": "stream",
     "text": [
      "//anaconda3/lib/python3.7/site-packages/sklearn/linear_model/logistic.py:432: FutureWarning: Default solver will be changed to 'lbfgs' in 0.22. Specify a solver to silence this warning.\n",
      "  FutureWarning)\n"
     ]
    },
    {
     "name": "stdout",
     "output_type": "stream",
     "text": [
      "0.7920982895687786\n",
      "0.7762479871175524\n",
      "0.8007475083056479\n",
      "0.7883074407195422\n",
      "[[10087  2399]\n",
      " [ 2779  9641]]\n",
      "              precision    recall  f1-score   support\n",
      "\n",
      "           0       0.78      0.81      0.80     12486\n",
      "           1       0.80      0.78      0.79     12420\n",
      "\n",
      "    accuracy                           0.79     24906\n",
      "   macro avg       0.79      0.79      0.79     24906\n",
      "weighted avg       0.79      0.79      0.79     24906\n",
      "\n"
     ]
    }
   ],
   "source": [
    "lr = LogisticRegression()\n",
    "lr.fit(X_train,y_train)\n",
    "y_pred = lr.predict(X_test)\n",
    "lr_score = lr.score(X_train, y_train)\n",
    "accuracy_lr_1 = lr.score(X_test,y_test)\n",
    "recall_lr = recall_score(y_test,y_pred)\n",
    "precision_lr_1 = precision_score(y_test,y_pred)\n",
    "f1_lr = f1_score(y_test,y_pred)\n",
    "confusion_mat_lr = confusion_matrix(y_test,y_pred)\n",
    "class_repo_lr = classification_report(y_test,y_pred)\n",
    "print(accuracy_lr_1)\n",
    "print( recall_lr)\n",
    "print(precision_lr_1)\n",
    "print(f1_lr)\n",
    "print(confusion_mat_lr)\n",
    "print(class_repo_lr)"
   ]
  },
  {
   "cell_type": "code",
   "execution_count": 104,
   "metadata": {},
   "outputs": [
    {
     "name": "stdout",
     "output_type": "stream",
     "text": [
      "0.9226692363285955\n",
      "0.9805958132045088\n",
      "0.878462204270052\n",
      "0.9267234819662151\n",
      "[[10801  1685]\n",
      " [  241 12179]]\n",
      "              precision    recall  f1-score   support\n",
      "\n",
      "           0       0.98      0.87      0.92     12486\n",
      "           1       0.88      0.98      0.93     12420\n",
      "\n",
      "    accuracy                           0.92     24906\n",
      "   macro avg       0.93      0.92      0.92     24906\n",
      "weighted avg       0.93      0.92      0.92     24906\n",
      "\n"
     ]
    }
   ],
   "source": [
    "knn = KNeighborsClassifier()\n",
    "knn.fit(X_train,y_train)\n",
    "y_pred = knn.predict(X_test)\n",
    "accuracy_knn_1 = knn.score(X_test,y_test)\n",
    "recall_knn = recall_score(y_test,y_pred)\n",
    "precision_knn_1 = precision_score(y_test,y_pred)\n",
    "f1_knn = f1_score(y_test,y_pred)\n",
    "confusion_mat_knn = confusion_matrix(y_test,y_pred)\n",
    "class_repo_knn = classification_report(y_test,y_pred)\n",
    "print(accuracy_knn_1)\n",
    "print( recall_knn)\n",
    "print(precision_knn_1)\n",
    "print(f1_knn)\n",
    "print(confusion_mat_knn)\n",
    "print(class_repo_knn)"
   ]
  },
  {
   "cell_type": "code",
   "execution_count": 105,
   "metadata": {},
   "outputs": [
    {
     "name": "stdout",
     "output_type": "stream",
     "text": [
      "0.5830322010760459\n",
      "0.980756843800322\n",
      "0.5455726250727818\n",
      "0.7011252770023311\n",
      "[[ 2340 10146]\n",
      " [  239 12181]]\n",
      "              precision    recall  f1-score   support\n",
      "\n",
      "           0       0.91      0.19      0.31     12486\n",
      "           1       0.55      0.98      0.70     12420\n",
      "\n",
      "    accuracy                           0.58     24906\n",
      "   macro avg       0.73      0.58      0.51     24906\n",
      "weighted avg       0.73      0.58      0.51     24906\n",
      "\n"
     ]
    }
   ],
   "source": [
    "gnb = GaussianNB()\n",
    "gnb.fit(X_train,y_train)\n",
    "y_pred = gnb.predict(X_test)\n",
    "accuracy_gnb_1 = gnb.score(X_test,y_test)\n",
    "recall_gnb = recall_score(y_test,y_pred)\n",
    "precision_gnb_1 = precision_score(y_test,y_pred)\n",
    "f1_gnb = f1_score(y_test,y_pred)\n",
    "confusion_mat_gnb = confusion_matrix(y_test,y_pred)\n",
    "class_repo_gnb = classification_report(y_test,y_pred)\n",
    "print(accuracy_gnb_1)\n",
    "print( recall_gnb)\n",
    "print(precision_gnb_1)\n",
    "print(f1_gnb)\n",
    "print(confusion_mat_gnb)\n",
    "print(class_repo_gnb)"
   ]
  },
  {
   "cell_type": "code",
   "execution_count": 106,
   "metadata": {},
   "outputs": [
    {
     "name": "stdout",
     "output_type": "stream",
     "text": [
      "0.7364891993897053\n",
      "0.864573268921095\n",
      "0.6745398580312834\n",
      "0.7578249056071138\n",
      "[[ 7305  5181]\n",
      " [ 1682 10738]]\n",
      "              precision    recall  f1-score   support\n",
      "\n",
      "           0       0.81      0.59      0.68     12486\n",
      "           1       0.67      0.86      0.76     12420\n",
      "\n",
      "    accuracy                           0.72     24906\n",
      "   macro avg       0.74      0.72      0.72     24906\n",
      "weighted avg       0.74      0.72      0.72     24906\n",
      "\n"
     ]
    },
    {
     "name": "stderr",
     "output_type": "stream",
     "text": [
      "//anaconda3/lib/python3.7/site-packages/sklearn/linear_model/stochastic_gradient.py:561: ConvergenceWarning: Maximum number of iteration reached before convergence. Consider increasing max_iter to improve the fit.\n",
      "  ConvergenceWarning)\n"
     ]
    }
   ],
   "source": [
    "p = Perceptron(max_iter=5)\n",
    "p.fit(X_train,y_train)\n",
    "y_pred = p.predict(X_test)\n",
    "accuracy_p_1 = p.score(X_test,y_test)\n",
    "recall_p = recall_score(y_test,y_pred)\n",
    "precision_p_1 = precision_score(y_test,y_pred)\n",
    "f1_p = f1_score(y_test,y_pred)\n",
    "confusion_mat_p = confusion_matrix(y_test,y_pred)\n",
    "class_repo_p = classification_report(y_test,y_pred)\n",
    "print(accuracy_p)\n",
    "print( recall_p)\n",
    "print(precision_p_1)\n",
    "print(f1_p)\n",
    "print(confusion_mat_p)\n",
    "print(class_repo_p)"
   ]
  },
  {
   "cell_type": "code",
   "execution_count": 107,
   "metadata": {},
   "outputs": [
    {
     "name": "stdout",
     "output_type": "stream",
     "text": [
      "0.7168152252469284\n",
      "0.633816425120773\n",
      "0.7586007516623302\n",
      "0.6906171864719042\n",
      "[[9981 2505]\n",
      " [4548 7872]]\n",
      "              precision    recall  f1-score   support\n",
      "\n",
      "           0       0.69      0.80      0.74     12486\n",
      "           1       0.76      0.63      0.69     12420\n",
      "\n",
      "    accuracy                           0.72     24906\n",
      "   macro avg       0.72      0.72      0.71     24906\n",
      "weighted avg       0.72      0.72      0.71     24906\n",
      "\n"
     ]
    },
    {
     "name": "stderr",
     "output_type": "stream",
     "text": [
      "//anaconda3/lib/python3.7/site-packages/sklearn/svm/base.py:929: ConvergenceWarning: Liblinear failed to converge, increase the number of iterations.\n",
      "  \"the number of iterations.\", ConvergenceWarning)\n"
     ]
    }
   ],
   "source": [
    "svm = LinearSVC()\n",
    "svm.fit(X_train,y_train)\n",
    "y_pred = svm.predict(X_test)\n",
    "accuracy_svm_1 = svm.score(X_test,y_test)\n",
    "recall_svm = recall_score(y_test,y_pred)\n",
    "precision_svm_1 = precision_score(y_test,y_pred)\n",
    "f1_svm = f1_score(y_test,y_pred)\n",
    "confusion_mat_svm = confusion_matrix(y_test,y_pred)\n",
    "class_repo_svm = classification_report(y_test,y_pred)\n",
    "print(accuracy_svm_1)\n",
    "print( recall_svm)\n",
    "print(precision_svm_1)\n",
    "print(f1_svm)\n",
    "print(confusion_mat_svm)\n",
    "print(class_repo_svm)"
   ]
  },
  {
   "cell_type": "code",
   "execution_count": 108,
   "metadata": {},
   "outputs": [
    {
     "name": "stdout",
     "output_type": "stream",
     "text": [
      "0.9768730426403276\n",
      "0.9837359098228663\n",
      "0.9702986022871665\n",
      "0.9769710538941309\n",
      "[[12112   374]\n",
      " [  202 12218]]\n",
      "              precision    recall  f1-score   support\n",
      "\n",
      "           0       0.98      0.97      0.98     12486\n",
      "           1       0.97      0.98      0.98     12420\n",
      "\n",
      "    accuracy                           0.98     24906\n",
      "   macro avg       0.98      0.98      0.98     24906\n",
      "weighted avg       0.98      0.98      0.98     24906\n",
      "\n"
     ]
    }
   ],
   "source": [
    "dt = DecisionTreeClassifier()\n",
    "dt.fit(X_train,y_train)\n",
    "y_pred = dt.predict(X_test)\n",
    "accuracy_dt_1 = dt.score(X_test,y_test)\n",
    "recall_dt = recall_score(y_test,y_pred)\n",
    "precision_dt_1 = precision_score(y_test,y_pred)\n",
    "f1_dt = f1_score(y_test,y_pred)\n",
    "confusion_mat_dt = confusion_matrix(y_test,y_pred)\n",
    "class_repo_dt = classification_report(y_test,y_pred)\n",
    "print(accuracy_dt_1)\n",
    "print( recall_dt)\n",
    "print(precision_dt_1)\n",
    "print(f1_dt)\n",
    "print(confusion_mat_dt)\n",
    "print(class_repo_dt)"
   ]
  },
  {
   "cell_type": "code",
   "execution_count": 109,
   "metadata": {},
   "outputs": [
    {
     "name": "stdout",
     "output_type": "stream",
     "text": [
      "0.9113868144222276\n",
      "0.9457326892109501\n",
      "0.8830251090061645\n",
      "0.9133037866417854\n",
      "[[10930  1556]\n",
      " [  674 11746]]\n",
      "              precision    recall  f1-score   support\n",
      "\n",
      "           0       0.94      0.88      0.91     12486\n",
      "           1       0.88      0.95      0.91     12420\n",
      "\n",
      "    accuracy                           0.91     24906\n",
      "   macro avg       0.91      0.91      0.91     24906\n",
      "weighted avg       0.91      0.91      0.91     24906\n",
      "\n"
     ]
    }
   ],
   "source": [
    "xgb = XGBClassifier()\n",
    "xgb.fit(X_train, y_train)\n",
    "y_pred = xgb.predict(X_test)\n",
    "accuracy_xgb_1 = xgb.score(X_test,y_test)\n",
    "recall_xgb = recall_score(y_test,y_pred)\n",
    "precision_xgb_1 = precision_score(y_test,y_pred)\n",
    "f1_xgb = f1_score(y_test,y_pred)\n",
    "confusion_mat_xgb = confusion_matrix(y_test,y_pred)\n",
    "class_repo_xgb = classification_report(y_test,y_pred)\n",
    "print(accuracy_xgb)\n",
    "print( recall_xgb)\n",
    "print(precision_xgb_1)\n",
    "print(f1_xgb)\n",
    "print(confusion_mat_xgb)\n",
    "print(class_repo_xgb)"
   ]
  },
  {
   "cell_type": "code",
   "execution_count": 110,
   "metadata": {},
   "outputs": [
    {
     "name": "stdout",
     "output_type": "stream",
     "text": [
      "0.8881795551272785\n",
      "0.9289049919484702\n",
      "0.8707765720003079\n",
      "0.8985552396900192\n",
      "[[10764  1722]\n",
      " [  883 11537]]\n",
      "              precision    recall  f1-score   support\n",
      "\n",
      "           0       0.92      0.86      0.89     12486\n",
      "           1       0.87      0.93      0.90     12420\n",
      "\n",
      "    accuracy                           0.90     24906\n",
      "   macro avg       0.90      0.90      0.90     24906\n",
      "weighted avg       0.90      0.90      0.90     24906\n",
      "\n"
     ]
    }
   ],
   "source": [
    "adb = AdaBoostClassifier()\n",
    "adb.fit(X_train,y_train)\n",
    "y_pred = adb.predict(X_test)\n",
    "accuracy_adb_1 = adb.score(X_test,y_test)\n",
    "recall_adb = recall_score(y_test,y_pred)\n",
    "precision_adb_1 = precision_score(y_test,y_pred)\n",
    "f1_adb = f1_score(y_test,y_pred)\n",
    "confusion_mat_adb = confusion_matrix(y_test,y_pred)\n",
    "class_repo_adb = classification_report(y_test,y_pred)\n",
    "print(accuracy_adb)\n",
    "print( recall_adb)\n",
    "print(precision_adb)\n",
    "print(f1_adb)\n",
    "print(confusion_mat_adb)\n",
    "print(class_repo_adb)"
   ]
  },
  {
   "cell_type": "code",
   "execution_count": 112,
   "metadata": {},
   "outputs": [],
   "source": [
    "pred_rf = rf.predict(rel_test)\n",
    "result = pd.DataFrame(dict(zip(test_df[\"ID\"],pred_rf)).items(), columns = [\"ID\", \"Claim\"])\n",
    "result.to_csv(\"/Users/akankshamishra/Desktop/test_submission_new/result_rf_new.csv\", index= False)"
   ]
  },
  {
   "cell_type": "code",
   "execution_count": 113,
   "metadata": {},
   "outputs": [],
   "source": [
    "pred_knn = knn.predict(rel_test)\n",
    "result = pd.DataFrame(dict(zip(test_df[\"ID\"],pred_knn)).items(), columns = [\"ID\", \"Claim\"])\n",
    "result.to_csv(\"/Users/akankshamishra/Desktop/test_submission_new/result_knn_new.csv\", index= False)"
   ]
  },
  {
   "cell_type": "code",
   "execution_count": 114,
   "metadata": {},
   "outputs": [],
   "source": [
    "pred_dt = dt.predict(rel_test)\n",
    "result = pd.DataFrame(dict(zip(test_df[\"ID\"],pred_dt)).items(), columns = [\"ID\", \"Claim\"])\n",
    "result.to_csv(\"/Users/akankshamishra/Desktop/test_submission_new/result_dt_new.csv\", index= False)"
   ]
  },
  {
   "cell_type": "code",
   "execution_count": 115,
   "metadata": {},
   "outputs": [],
   "source": [
    "pred_xgb = xgb.predict(rel_test)\n",
    "result = pd.DataFrame(dict(zip(test_df[\"ID\"],pred_xgb)).items(), columns = [\"ID\", \"Claim\"])\n",
    "result.to_csv(\"/Users/akankshamishra/Desktop/test_submission_new/result_xgb_new.csv\", index= False)"
   ]
  },
  {
   "cell_type": "code",
   "execution_count": 116,
   "metadata": {},
   "outputs": [],
   "source": [
    "pred_adb = adb.predict(rel_test)\n",
    "result = pd.DataFrame(dict(zip(test_df[\"ID\"],pred_adb)).items(), columns = [\"ID\", \"Claim\"])\n",
    "result.to_csv(\"/Users/akankshamishra/Desktop/test_submission_new/result_adb_new.csv\", index= False)"
   ]
  },
  {
   "cell_type": "code",
   "execution_count": 117,
   "metadata": {},
   "outputs": [],
   "source": [
    "pred_lr = lr.predict(rel_test)\n",
    "result = pd.DataFrame(dict(zip(test_df[\"ID\"],pred_lr)).items(), columns = [\"ID\", \"Claim\"])\n",
    "result.to_csv(\"/Users/akankshamishra/Desktop/test_submission_new/result_lr_new.csv\", index= False)"
   ]
  },
  {
   "cell_type": "code",
   "execution_count": 118,
   "metadata": {},
   "outputs": [],
   "source": [
    "pred_p = p.predict(rel_test)\n",
    "result = pd.DataFrame(dict(zip(test_df[\"ID\"],pred_p)).items(), columns = [\"ID\", \"Claim\"])\n",
    "result.to_csv(\"/Users/akankshamishra/Desktop/test_submission_new/result_p_new.csv\", index= False)"
   ]
  },
  {
   "cell_type": "code",
   "execution_count": 119,
   "metadata": {},
   "outputs": [],
   "source": [
    "pred_svm = svm.predict(rel_test)\n",
    "result = pd.DataFrame(dict(zip(test_df[\"ID\"],pred_svm)).items(), columns = [\"ID\", \"Claim\"])\n",
    "result.to_csv(\"/Users/akankshamishra/Desktop/test_submission_new/result_svm_new.csv\", index= False)"
   ]
  },
  {
   "cell_type": "code",
   "execution_count": 120,
   "metadata": {},
   "outputs": [],
   "source": [
    "pred_sgd = sgd.predict(rel_test)\n",
    "result = pd.DataFrame(dict(zip(test_df[\"ID\"],pred_sgd)).items(), columns = [\"ID\", \"Claim\"])\n",
    "result.to_csv(\"/Users/akankshamishra/Desktop/test_submission_new/result_sgd_new.csv\", index= False)"
   ]
  },
  {
   "cell_type": "code",
   "execution_count": 121,
   "metadata": {},
   "outputs": [],
   "source": [
    "pred_gnb = gnb.predict(rel_test)\n",
    "result = pd.DataFrame(dict(zip(test_df[\"ID\"],pred_gnb)).items(), columns = [\"ID\", \"Claim\"])\n",
    "result.to_csv(\"/Users/akankshamishra/Desktop/test_submission_new/result_gnb_new.csv\", index= False)"
   ]
  },
  {
   "cell_type": "code",
   "execution_count": null,
   "metadata": {},
   "outputs": [],
   "source": []
  },
  {
   "cell_type": "code",
   "execution_count": null,
   "metadata": {},
   "outputs": [],
   "source": []
  },
  {
   "cell_type": "code",
   "execution_count": null,
   "metadata": {},
   "outputs": [],
   "source": []
  },
  {
   "cell_type": "code",
   "execution_count": null,
   "metadata": {},
   "outputs": [],
   "source": []
  }
 ],
 "metadata": {
  "kernelspec": {
   "display_name": "Python 3",
   "language": "python",
   "name": "python3"
  },
  "language_info": {
   "codemirror_mode": {
    "name": "ipython",
    "version": 3
   },
   "file_extension": ".py",
   "mimetype": "text/x-python",
   "name": "python",
   "nbconvert_exporter": "python",
   "pygments_lexer": "ipython3",
   "version": "3.7.3"
  }
 },
 "nbformat": 4,
 "nbformat_minor": 2
}
